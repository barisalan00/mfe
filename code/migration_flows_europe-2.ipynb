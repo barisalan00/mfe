{
 "cells": [
  {
   "cell_type": "markdown",
   "metadata": {
    "id": "npK4eiNkdIXa"
   },
   "source": [
    "# Migration Flows to Europe\n",
    "---\n",
    "---\n",
    "\n",
    "\n",
    "  **Baris Alan**\n",
    "\n",
    "Final Data Science Tutorial\n",
    "\n",
    "CMPS 6790 - Data Science - Prof. Nicholas Mattei\n",
    "\n",
    "\n",
    "[Online Access to the Project](https://barisalan00.github.io/)\n",
    "\n",
    "[Project Datasets](https://github.com/barisalan00/barisalan00.github.io)\n",
    "\n",
    "---"
   ]
  },
  {
   "cell_type": "markdown",
   "metadata": {
    "id": "LUsK6nu7poEW"
   },
   "source": [
    "## Project Topic and Goals\n",
    "\n",
    "The advanced liberal democracies in the Western world stand as an attractive destination for populations in the developing world, driven by a myriad of pull and push factors. Pull factors encompass liberal developed democracies offering employment opportunities, and providing rule of law and equal treatment before the law. Conversely, push factors comprise issues such as armed and social conflict, unemployment, poverty, corruption, poor governance, and the climate related risks. European countries, in particular, emerge as a desirable destination for numerous nations in Africa, the Middle East, and West Asia.\n",
    "\n",
    "The primary objective of this project is to conduct a comprehensive analysis and visualization of migration flows to the European Union (EU) countries from regions outside Europe. The key areas of focus include examining the demographic structure and educational background of migrants, identifying their countries of origin and the EU countries they choose for settlement, and mapping out the migration routes and transit countries they navigate.\n",
    "\n",
    "By addressing these aspects, the project aims to provide valuable insights into the dynamics of migration to the EU, shedding light on the factors influencing migration patterns and contributing to a nuanced understanding of the complex interplay between push and pull factors in the context of global migration.\n",
    "\n",
    "Later on, this project aims to build a statistical model to measure the impact of various factors on migration flows to Europe: economic (GPD per capita and multidimensional poverty), political (political stability and effectiveness of government), gender (gender inequality), conflict (armed conflict and social unrest), and climate (climate related risks)."
   ]
  },
  {
   "cell_type": "markdown",
   "metadata": {
    "id": "Sz8pIpS_u1Ct"
   },
   "source": [
    "## Project Datasets\n",
    "This project will utilize various datasets from different institutions.\n",
    "\n",
    "#### The First Dataset\n",
    "The primary dataset is sourced from [Eurostat](https://ec.europa.eu/eurostat), the official statistical administration of the EU. Specifically, I obtained the dataset from the [Migration and Population Statistics](https://ec.europa.eu/eurostat/statistics-explained/index.php?title=Migration_and_migrant_population_statistics) section, focusing on [immigration by age group, sex, and citizenship](https://ec.europa.eu/eurostat/databrowser/view/migr_imm1ctz__custom_10260387/default/table?lang=en). This dataset provides the total number of migrants based on specified filters, allowing researchers to analyze immigration by receiving country, immigrant citizenship, year, age group, and gender.\n",
    "\n",
    "Due to Eurostat's data download limitations, careful selection of attributes was necessary. Specifically, (1) I narrowed down the country of citizenship options to 218, excluding EU countries to focus on immigration from other regions to Europe. Additionally, regional groupings such as Africa and South Asia were included for future analysis. (2) Receiving countries were limited to 27 EU nations. (3) Gender analysis was conducted for all available options (Male-Female-Total). (4) Age-based analysis was performed by selecting total and specific age brackets. (5) The dataset was filtered for the year 2021, with plans to include data from previous years for a comprehensive analysis of changing migration flows.\n",
    "\n",
    "Key questions addressed with the first dataset include: \"What is the total number of arrivals in EU countries in 2022?\", \"What are the demographic characteristics of immigrants based on gender and age?\", and \"Which EU countries received the highest number of immigrants?\", and lastly \"Which sent the highest number of immigrants?\"\n",
    "\n",
    "#### The Second Set of Datasets: ISO Codes\n",
    "For the second dataset, [Datahub.io](https://datahub.io/core/country-list), to incorporate 2-digit country codes, was utilized. This dataset serves the sole purpose of associating country names witb country codes in the immigration dataset.\n",
    "\n",
    "Some of the independent variable datasets use 3-digit country codes. Therefore, for better merging the main migration dataset with these independent variable datasets, the [UN ISO3 Dataset](https://data.apps.fao.org/catalog/dataset/iso-3-code-list-global-region-country/resource/f1b4b92d-8abd-43be-bea3-c0dc7f82ccf9) was also utilized to bring iso3 codes.\n",
    "\n",
    "#### The Third-set of Datasets: Economic Indicators\n",
    "To measure the effect of economic indicators, this project will utilize the GDP per capita (Purchasing Power Parity in 2017 Constant USD) dataset by the [World Bank](https://databank.worldbank.org/home). GPD/PC is the most common and one of the best indicator of overall economic wellbeing of a country.\n",
    "\n",
    "Yet, because the average income might not reflect the well-being of the whole population, this research will include [World Bank Multidimensional Poverty Measurement](https://www.worldbank.org/en/topic/poverty/brief/multidimensional-poverty-measure) as well.\n",
    "\n",
    "\n",
    "#### The Rest of Datasets\n",
    "Key questions addressed using these sets of datasets that will provide the explanatory variables is: \"What is the most important predictor of migration flows to Europe in 2022?\". Therefore this project utilizes various datasets to bring independent variables into the analysis:\n",
    "- [German Watch Climate Risk Index](https://www.germanwatch.org/en/cri) will be used to asses climate-realted factors,\n",
    "- [ACLED Datasets](https://acleddata.com/dashboard/#/dashboard) will be used to retrieve the indicators for armed conflict and social conflicts,\n",
    "- [World Bank World Governance Indicator](https://www.worldbank.org/en/publication/worldwide-governance-indicators) will be used to asses the political stability and government effectiveness,\n",
    "- [UNDP Gender Inequality Index](https://hdr.undp.org/data-center/thematic-composite-indices/gender-inequality-index#/indicies/GII) will be helpful in understanding gender-related causes of migration flows.\n",
    "\n",
    "The ultimate goal of this project is to build a statistical model to predict the migration flows to EU27 countries by using various economic, social, political, environmental and gender-related factors."
   ]
  },
  {
   "cell_type": "markdown",
   "metadata": {
    "id": "K0oxpt7D2EWz"
   },
   "source": [
    "## ETL (Extract, Transform, Load)"
   ]
  },
  {
   "cell_type": "code",
   "execution_count": 1,
   "metadata": {
    "id": "lCjTt-dockbu"
   },
   "outputs": [],
   "source": [
    "# Import libraries\n",
    "import pandas as pd\n",
    "import numpy as np\n",
    "import matplotlib.pyplot as plt"
   ]
  },
  {
   "cell_type": "code",
   "execution_count": 2,
   "metadata": {
    "colab": {
     "base_uri": "https://localhost:8080/"
    },
    "executionInfo": {
     "elapsed": 7387,
     "status": "ok",
     "timestamp": 1712950709494,
     "user": {
      "displayName": "Barış ALAN",
      "userId": "17887961324607480771"
     },
     "user_tz": 300
    },
    "id": "Noz4usqEeBBu",
    "outputId": "0eac32dd-5316-47e8-f587-50093584cd50"
   },
   "outputs": [
    {
     "name": "stdout",
     "output_type": "stream",
     "text": [
      "Cloning into 'barisalan00.github.io'...\n",
      "remote: Enumerating objects: 132, done.\u001b[K\n",
      "remote: Counting objects: 100% (80/80), done.\u001b[K\n",
      "remote: Compressing objects: 100% (77/77), done.\u001b[K\n",
      "remote: Total 132 (delta 38), reused 2 (delta 2), pack-reused 52 (from 1)\u001b[K\n",
      "Receiving objects: 100% (132/132), 18.96 MiB | 861.00 KiB/s, done.\n",
      "Resolving deltas: 100% (52/52), done.\n",
      "/home/jovyan/barisalan00.github.io\n",
      "/home/jovyan/barisalan00.github.io\n"
     ]
    }
   ],
   "source": [
    "# Clone the repository, change the wd\n",
    "!git clone https://github.com/barisalan00/barisalan00.github.io\n",
    "%cd /home/jovyan/barisalan00.github.io\n",
    "!pwd"
   ]
  },
  {
   "cell_type": "markdown",
   "metadata": {
    "id": "0s0_5-eQWMhN"
   },
   "source": [
    "### Import Datasets"
   ]
  },
  {
   "cell_type": "code",
   "execution_count": 3,
   "metadata": {
    "colab": {
     "base_uri": "https://localhost:8080/",
     "height": 1000
    },
    "executionInfo": {
     "elapsed": 1876,
     "status": "ok",
     "timestamp": 1712951665994,
     "user": {
      "displayName": "Barış ALAN",
      "userId": "17887961324607480771"
     },
     "user_tz": 300
    },
    "id": "vbPOJSitRYMq",
    "outputId": "d9ea950a-97a6-40bd-9aaa-24a1680b8132"
   },
   "outputs": [
    {
     "data": {
      "text/html": [
       "<div>\n",
       "<style scoped>\n",
       "    .dataframe tbody tr th:only-of-type {\n",
       "        vertical-align: middle;\n",
       "    }\n",
       "\n",
       "    .dataframe tbody tr th {\n",
       "        vertical-align: top;\n",
       "    }\n",
       "\n",
       "    .dataframe thead th {\n",
       "        text-align: right;\n",
       "    }\n",
       "</style>\n",
       "<table border=\"1\" class=\"dataframe\">\n",
       "  <thead>\n",
       "    <tr style=\"text-align: right;\">\n",
       "      <th></th>\n",
       "      <th>DATAFLOW</th>\n",
       "      <th>LAST UPDATE</th>\n",
       "      <th>freq</th>\n",
       "      <th>citizen</th>\n",
       "      <th>agedef</th>\n",
       "      <th>age</th>\n",
       "      <th>unit</th>\n",
       "      <th>sex</th>\n",
       "      <th>geo</th>\n",
       "      <th>TIME_PERIOD</th>\n",
       "      <th>OBS_VALUE</th>\n",
       "      <th>OBS_FLAG</th>\n",
       "    </tr>\n",
       "  </thead>\n",
       "  <tbody>\n",
       "    <tr>\n",
       "      <th>0</th>\n",
       "      <td>ESTAT:MIGR_IMM1CTZ(1.0)</td>\n",
       "      <td>27/03/24 11:00:00</td>\n",
       "      <td>A</td>\n",
       "      <td>AD</td>\n",
       "      <td>REACH</td>\n",
       "      <td>TOTAL</td>\n",
       "      <td>NR</td>\n",
       "      <td>F</td>\n",
       "      <td>AT</td>\n",
       "      <td>2022</td>\n",
       "      <td>0</td>\n",
       "      <td>NaN</td>\n",
       "    </tr>\n",
       "    <tr>\n",
       "      <th>1</th>\n",
       "      <td>ESTAT:MIGR_IMM1CTZ(1.0)</td>\n",
       "      <td>27/03/24 11:00:00</td>\n",
       "      <td>A</td>\n",
       "      <td>AD</td>\n",
       "      <td>REACH</td>\n",
       "      <td>TOTAL</td>\n",
       "      <td>NR</td>\n",
       "      <td>F</td>\n",
       "      <td>BG</td>\n",
       "      <td>2022</td>\n",
       "      <td>0</td>\n",
       "      <td>NaN</td>\n",
       "    </tr>\n",
       "    <tr>\n",
       "      <th>2</th>\n",
       "      <td>ESTAT:MIGR_IMM1CTZ(1.0)</td>\n",
       "      <td>27/03/24 11:00:00</td>\n",
       "      <td>A</td>\n",
       "      <td>AD</td>\n",
       "      <td>REACH</td>\n",
       "      <td>TOTAL</td>\n",
       "      <td>NR</td>\n",
       "      <td>F</td>\n",
       "      <td>CZ</td>\n",
       "      <td>2022</td>\n",
       "      <td>0</td>\n",
       "      <td>NaN</td>\n",
       "    </tr>\n",
       "  </tbody>\n",
       "</table>\n",
       "</div>"
      ],
      "text/plain": [
       "                  DATAFLOW        LAST UPDATE freq citizen agedef    age unit  \\\n",
       "0  ESTAT:MIGR_IMM1CTZ(1.0)  27/03/24 11:00:00    A      AD  REACH  TOTAL   NR   \n",
       "1  ESTAT:MIGR_IMM1CTZ(1.0)  27/03/24 11:00:00    A      AD  REACH  TOTAL   NR   \n",
       "2  ESTAT:MIGR_IMM1CTZ(1.0)  27/03/24 11:00:00    A      AD  REACH  TOTAL   NR   \n",
       "\n",
       "  sex geo  TIME_PERIOD  OBS_VALUE OBS_FLAG  \n",
       "0   F  AT         2022          0      NaN  \n",
       "1   F  BG         2022          0      NaN  \n",
       "2   F  CZ         2022          0      NaN  "
      ]
     },
     "metadata": {},
     "output_type": "display_data"
    },
    {
     "data": {
      "text/plain": [
       "119479"
      ]
     },
     "metadata": {},
     "output_type": "display_data"
    },
    {
     "data": {
      "text/html": [
       "<div>\n",
       "<style scoped>\n",
       "    .dataframe tbody tr th:only-of-type {\n",
       "        vertical-align: middle;\n",
       "    }\n",
       "\n",
       "    .dataframe tbody tr th {\n",
       "        vertical-align: top;\n",
       "    }\n",
       "\n",
       "    .dataframe thead th {\n",
       "        text-align: right;\n",
       "    }\n",
       "</style>\n",
       "<table border=\"1\" class=\"dataframe\">\n",
       "  <thead>\n",
       "    <tr style=\"text-align: right;\">\n",
       "      <th></th>\n",
       "      <th>Name</th>\n",
       "      <th>Code</th>\n",
       "    </tr>\n",
       "  </thead>\n",
       "  <tbody>\n",
       "    <tr>\n",
       "      <th>0</th>\n",
       "      <td>Afghanistan</td>\n",
       "      <td>AF</td>\n",
       "    </tr>\n",
       "    <tr>\n",
       "      <th>1</th>\n",
       "      <td>Åland Islands</td>\n",
       "      <td>AX</td>\n",
       "    </tr>\n",
       "    <tr>\n",
       "      <th>2</th>\n",
       "      <td>Albania</td>\n",
       "      <td>AL</td>\n",
       "    </tr>\n",
       "  </tbody>\n",
       "</table>\n",
       "</div>"
      ],
      "text/plain": [
       "            Name Code\n",
       "0    Afghanistan   AF\n",
       "1  Åland Islands   AX\n",
       "2        Albania   AL"
      ]
     },
     "metadata": {},
     "output_type": "display_data"
    },
    {
     "data": {
      "text/html": [
       "<div>\n",
       "<style scoped>\n",
       "    .dataframe tbody tr th:only-of-type {\n",
       "        vertical-align: middle;\n",
       "    }\n",
       "\n",
       "    .dataframe tbody tr th {\n",
       "        vertical-align: top;\n",
       "    }\n",
       "\n",
       "    .dataframe thead th {\n",
       "        text-align: right;\n",
       "    }\n",
       "</style>\n",
       "<table border=\"1\" class=\"dataframe\">\n",
       "  <thead>\n",
       "    <tr style=\"text-align: right;\">\n",
       "      <th></th>\n",
       "      <th>iso3</th>\n",
       "      <th>name</th>\n",
       "    </tr>\n",
       "  </thead>\n",
       "  <tbody>\n",
       "    <tr>\n",
       "      <th>0</th>\n",
       "      <td>BEL</td>\n",
       "      <td>Belgium</td>\n",
       "    </tr>\n",
       "    <tr>\n",
       "      <th>1</th>\n",
       "      <td>CH_</td>\n",
       "      <td>China, mainland</td>\n",
       "    </tr>\n",
       "    <tr>\n",
       "      <th>2</th>\n",
       "      <td>GGY</td>\n",
       "      <td>Guernsey</td>\n",
       "    </tr>\n",
       "  </tbody>\n",
       "</table>\n",
       "</div>"
      ],
      "text/plain": [
       "  iso3             name\n",
       "0  BEL          Belgium\n",
       "1  CH_  China, mainland\n",
       "2  GGY         Guernsey"
      ]
     },
     "metadata": {},
     "output_type": "display_data"
    },
    {
     "data": {
      "text/html": [
       "<div>\n",
       "<style scoped>\n",
       "    .dataframe tbody tr th:only-of-type {\n",
       "        vertical-align: middle;\n",
       "    }\n",
       "\n",
       "    .dataframe tbody tr th {\n",
       "        vertical-align: top;\n",
       "    }\n",
       "\n",
       "    .dataframe thead th {\n",
       "        text-align: right;\n",
       "    }\n",
       "</style>\n",
       "<table border=\"1\" class=\"dataframe\">\n",
       "  <thead>\n",
       "    <tr style=\"text-align: right;\">\n",
       "      <th></th>\n",
       "      <th>Country Name</th>\n",
       "      <th>Country Code</th>\n",
       "      <th>Series Name</th>\n",
       "      <th>Series Code</th>\n",
       "      <th>2022 [YR2022]</th>\n",
       "    </tr>\n",
       "  </thead>\n",
       "  <tbody>\n",
       "    <tr>\n",
       "      <th>0</th>\n",
       "      <td>Afghanistan</td>\n",
       "      <td>AFG</td>\n",
       "      <td>GDP per capita, PPP (constant 2017 internation...</td>\n",
       "      <td>NY.GDP.PCAP.PP.KD</td>\n",
       "      <td>..</td>\n",
       "    </tr>\n",
       "    <tr>\n",
       "      <th>1</th>\n",
       "      <td>Africa Eastern and Southern</td>\n",
       "      <td>AFE</td>\n",
       "      <td>GDP per capita, PPP (constant 2017 internation...</td>\n",
       "      <td>NY.GDP.PCAP.PP.KD</td>\n",
       "      <td>3566.269439</td>\n",
       "    </tr>\n",
       "    <tr>\n",
       "      <th>2</th>\n",
       "      <td>Africa Western and Central</td>\n",
       "      <td>AFW</td>\n",
       "      <td>GDP per capita, PPP (constant 2017 internation...</td>\n",
       "      <td>NY.GDP.PCAP.PP.KD</td>\n",
       "      <td>4066.48323</td>\n",
       "    </tr>\n",
       "  </tbody>\n",
       "</table>\n",
       "</div>"
      ],
      "text/plain": [
       "                  Country Name Country Code  \\\n",
       "0                  Afghanistan          AFG   \n",
       "1  Africa Eastern and Southern          AFE   \n",
       "2   Africa Western and Central          AFW   \n",
       "\n",
       "                                         Series Name        Series Code  \\\n",
       "0  GDP per capita, PPP (constant 2017 internation...  NY.GDP.PCAP.PP.KD   \n",
       "1  GDP per capita, PPP (constant 2017 internation...  NY.GDP.PCAP.PP.KD   \n",
       "2  GDP per capita, PPP (constant 2017 internation...  NY.GDP.PCAP.PP.KD   \n",
       "\n",
       "  2022 [YR2022]  \n",
       "0            ..  \n",
       "1   3566.269439  \n",
       "2    4066.48323  "
      ]
     },
     "metadata": {},
     "output_type": "display_data"
    },
    {
     "data": {
      "text/html": [
       "<div>\n",
       "<style scoped>\n",
       "    .dataframe tbody tr th:only-of-type {\n",
       "        vertical-align: middle;\n",
       "    }\n",
       "\n",
       "    .dataframe tbody tr th {\n",
       "        vertical-align: top;\n",
       "    }\n",
       "\n",
       "    .dataframe thead th {\n",
       "        text-align: right;\n",
       "    }\n",
       "</style>\n",
       "<table border=\"1\" class=\"dataframe\">\n",
       "  <thead>\n",
       "    <tr style=\"text-align: right;\">\n",
       "      <th></th>\n",
       "      <th>Region</th>\n",
       "      <th>Country code</th>\n",
       "      <th>Economy</th>\n",
       "      <th>Reporting year</th>\n",
       "      <th>Survey name</th>\n",
       "      <th>Survey year</th>\n",
       "      <th>Survey coverage</th>\n",
       "      <th>Welfare type</th>\n",
       "      <th>Survey comparability</th>\n",
       "      <th>Monetary (%)</th>\n",
       "      <th>Educational attainment (%)</th>\n",
       "      <th>Educational enrollment (%)</th>\n",
       "      <th>Electricity (%)</th>\n",
       "      <th>Sanitation (%)</th>\n",
       "      <th>Drinking water (%)</th>\n",
       "      <th>Multidimensional poverty headcount ratio (%)</th>\n",
       "    </tr>\n",
       "  </thead>\n",
       "  <tbody>\n",
       "    <tr>\n",
       "      <th>0</th>\n",
       "      <td>ECA</td>\n",
       "      <td>ALB</td>\n",
       "      <td>Albania</td>\n",
       "      <td>2018</td>\n",
       "      <td>HBS</td>\n",
       "      <td>2018</td>\n",
       "      <td>N</td>\n",
       "      <td>c</td>\n",
       "      <td>3.0</td>\n",
       "      <td>0.048107</td>\n",
       "      <td>0.192380</td>\n",
       "      <td>-</td>\n",
       "      <td>0.06025</td>\n",
       "      <td>6.579772</td>\n",
       "      <td>9.594966</td>\n",
       "      <td>0.293161</td>\n",
       "    </tr>\n",
       "    <tr>\n",
       "      <th>1</th>\n",
       "      <td>SSA</td>\n",
       "      <td>AGO</td>\n",
       "      <td>Angola</td>\n",
       "      <td>2018</td>\n",
       "      <td>IDREA</td>\n",
       "      <td>2018</td>\n",
       "      <td>N</td>\n",
       "      <td>c</td>\n",
       "      <td>2.0</td>\n",
       "      <td>31.122005</td>\n",
       "      <td>29.753423</td>\n",
       "      <td>27.44306</td>\n",
       "      <td>52.639532</td>\n",
       "      <td>53.637516</td>\n",
       "      <td>32.106507</td>\n",
       "      <td>47.203606</td>\n",
       "    </tr>\n",
       "    <tr>\n",
       "      <th>2</th>\n",
       "      <td>LAC</td>\n",
       "      <td>ARG</td>\n",
       "      <td>Argentina</td>\n",
       "      <td>2021</td>\n",
       "      <td>EPHC-S2</td>\n",
       "      <td>2021</td>\n",
       "      <td>U</td>\n",
       "      <td>i</td>\n",
       "      <td>2.0</td>\n",
       "      <td>0.958847</td>\n",
       "      <td>1.085320</td>\n",
       "      <td>0.731351</td>\n",
       "      <td>0</td>\n",
       "      <td>0.193965</td>\n",
       "      <td>0.364048</td>\n",
       "      <td>0.971202</td>\n",
       "    </tr>\n",
       "  </tbody>\n",
       "</table>\n",
       "</div>"
      ],
      "text/plain": [
       "  Region Country code    Economy  Reporting year Survey name  Survey year  \\\n",
       "0    ECA          ALB    Albania            2018         HBS         2018   \n",
       "1    SSA          AGO     Angola            2018       IDREA         2018   \n",
       "2    LAC          ARG  Argentina            2021     EPHC-S2         2021   \n",
       "\n",
       "  Survey coverage Welfare type  Survey comparability  Monetary (%)  \\\n",
       "0               N            c                   3.0      0.048107   \n",
       "1               N            c                   2.0     31.122005   \n",
       "2               U            i                   2.0      0.958847   \n",
       "\n",
       "   Educational attainment (%) Educational enrollment (%) Electricity (%)  \\\n",
       "0                    0.192380                          -         0.06025   \n",
       "1                   29.753423                   27.44306       52.639532   \n",
       "2                    1.085320                   0.731351               0   \n",
       "\n",
       "  Sanitation (%) Drinking water (%)  \\\n",
       "0       6.579772           9.594966   \n",
       "1      53.637516          32.106507   \n",
       "2       0.193965           0.364048   \n",
       "\n",
       "   Multidimensional poverty headcount ratio (%)  \n",
       "0                                      0.293161  \n",
       "1                                     47.203606  \n",
       "2                                      0.971202  "
      ]
     },
     "metadata": {},
     "output_type": "display_data"
    },
    {
     "data": {
      "text/html": [
       "<div>\n",
       "<style scoped>\n",
       "    .dataframe tbody tr th:only-of-type {\n",
       "        vertical-align: middle;\n",
       "    }\n",
       "\n",
       "    .dataframe tbody tr th {\n",
       "        vertical-align: top;\n",
       "    }\n",
       "\n",
       "    .dataframe thead th {\n",
       "        text-align: right;\n",
       "    }\n",
       "</style>\n",
       "<table border=\"1\" class=\"dataframe\">\n",
       "  <thead>\n",
       "    <tr style=\"text-align: right;\">\n",
       "      <th></th>\n",
       "      <th>event_id_cnty</th>\n",
       "      <th>event_date</th>\n",
       "      <th>year</th>\n",
       "      <th>time_precision</th>\n",
       "      <th>disorder_type</th>\n",
       "      <th>event_type</th>\n",
       "      <th>sub_event_type</th>\n",
       "      <th>actor1</th>\n",
       "      <th>assoc_actor_1</th>\n",
       "      <th>inter1</th>\n",
       "      <th>...</th>\n",
       "      <th>location</th>\n",
       "      <th>latitude</th>\n",
       "      <th>longitude</th>\n",
       "      <th>geo_precision</th>\n",
       "      <th>source</th>\n",
       "      <th>source_scale</th>\n",
       "      <th>notes</th>\n",
       "      <th>fatalities</th>\n",
       "      <th>tags</th>\n",
       "      <th>timestamp</th>\n",
       "    </tr>\n",
       "  </thead>\n",
       "  <tbody>\n",
       "    <tr>\n",
       "      <th>0</th>\n",
       "      <td>DRC27768</td>\n",
       "      <td>31-Dec-22</td>\n",
       "      <td>2022</td>\n",
       "      <td>1</td>\n",
       "      <td>Political violence</td>\n",
       "      <td>Battles</td>\n",
       "      <td>Armed clash</td>\n",
       "      <td>M23: March 23 Movement</td>\n",
       "      <td>NaN</td>\n",
       "      <td>2</td>\n",
       "      <td>...</td>\n",
       "      <td>Karenga</td>\n",
       "      <td>-1.4724</td>\n",
       "      <td>29.0655</td>\n",
       "      <td>2</td>\n",
       "      <td>Mediacongo.net; Radio Okapi</td>\n",
       "      <td>National</td>\n",
       "      <td>On 31 December 2022, during a two-day battle, ...</td>\n",
       "      <td>0</td>\n",
       "      <td>NaN</td>\n",
       "      <td>1673291085</td>\n",
       "    </tr>\n",
       "    <tr>\n",
       "      <th>1</th>\n",
       "      <td>MZM3154</td>\n",
       "      <td>31-Dec-22</td>\n",
       "      <td>2022</td>\n",
       "      <td>1</td>\n",
       "      <td>Political violence</td>\n",
       "      <td>Battles</td>\n",
       "      <td>Armed clash</td>\n",
       "      <td>Islamist Militia (Mozambique)</td>\n",
       "      <td>NaN</td>\n",
       "      <td>3</td>\n",
       "      <td>...</td>\n",
       "      <td>Namacule</td>\n",
       "      <td>-11.8567</td>\n",
       "      <td>39.8000</td>\n",
       "      <td>1</td>\n",
       "      <td>AIM; Pinnacle News; Twitter; Zitamar</td>\n",
       "      <td>New media-National</td>\n",
       "      <td>On 31 December 2022, Islamist militia clashed ...</td>\n",
       "      <td>2</td>\n",
       "      <td>NaN</td>\n",
       "      <td>1673291088</td>\n",
       "    </tr>\n",
       "    <tr>\n",
       "      <th>2</th>\n",
       "      <td>MZM3155</td>\n",
       "      <td>31-Dec-22</td>\n",
       "      <td>2022</td>\n",
       "      <td>1</td>\n",
       "      <td>Political violence</td>\n",
       "      <td>Battles</td>\n",
       "      <td>Armed clash</td>\n",
       "      <td>Islamist Militia (Mozambique)</td>\n",
       "      <td>NaN</td>\n",
       "      <td>3</td>\n",
       "      <td>...</td>\n",
       "      <td>Namande</td>\n",
       "      <td>-11.8278</td>\n",
       "      <td>39.7416</td>\n",
       "      <td>1</td>\n",
       "      <td>AIM; Pinnacle News; Twitter; VOA; Zitamar</td>\n",
       "      <td>New media-National</td>\n",
       "      <td>On 31 December 2022, Islamist militia clashed ...</td>\n",
       "      <td>2</td>\n",
       "      <td>NaN</td>\n",
       "      <td>1673291088</td>\n",
       "    </tr>\n",
       "  </tbody>\n",
       "</table>\n",
       "<p>3 rows × 31 columns</p>\n",
       "</div>"
      ],
      "text/plain": [
       "  event_id_cnty event_date  year  time_precision       disorder_type  \\\n",
       "0      DRC27768  31-Dec-22  2022               1  Political violence   \n",
       "1       MZM3154  31-Dec-22  2022               1  Political violence   \n",
       "2       MZM3155  31-Dec-22  2022               1  Political violence   \n",
       "\n",
       "  event_type sub_event_type                         actor1 assoc_actor_1  \\\n",
       "0    Battles    Armed clash         M23: March 23 Movement           NaN   \n",
       "1    Battles    Armed clash  Islamist Militia (Mozambique)           NaN   \n",
       "2    Battles    Armed clash  Islamist Militia (Mozambique)           NaN   \n",
       "\n",
       "   inter1  ...  location latitude  longitude  geo_precision  \\\n",
       "0       2  ...   Karenga  -1.4724    29.0655              2   \n",
       "1       3  ...  Namacule -11.8567    39.8000              1   \n",
       "2       3  ...   Namande -11.8278    39.7416              1   \n",
       "\n",
       "                                      source        source_scale  \\\n",
       "0                Mediacongo.net; Radio Okapi            National   \n",
       "1       AIM; Pinnacle News; Twitter; Zitamar  New media-National   \n",
       "2  AIM; Pinnacle News; Twitter; VOA; Zitamar  New media-National   \n",
       "\n",
       "                                               notes fatalities tags  \\\n",
       "0  On 31 December 2022, during a two-day battle, ...          0  NaN   \n",
       "1  On 31 December 2022, Islamist militia clashed ...          2  NaN   \n",
       "2  On 31 December 2022, Islamist militia clashed ...          2  NaN   \n",
       "\n",
       "    timestamp  \n",
       "0  1673291085  \n",
       "1  1673291088  \n",
       "2  1673291088  \n",
       "\n",
       "[3 rows x 31 columns]"
      ]
     },
     "metadata": {},
     "output_type": "display_data"
    },
    {
     "data": {
      "text/html": [
       "<div>\n",
       "<style scoped>\n",
       "    .dataframe tbody tr th:only-of-type {\n",
       "        vertical-align: middle;\n",
       "    }\n",
       "\n",
       "    .dataframe tbody tr th {\n",
       "        vertical-align: top;\n",
       "    }\n",
       "\n",
       "    .dataframe thead th {\n",
       "        text-align: right;\n",
       "    }\n",
       "</style>\n",
       "<table border=\"1\" class=\"dataframe\">\n",
       "  <thead>\n",
       "    <tr style=\"text-align: right;\">\n",
       "      <th></th>\n",
       "      <th>event_id_cnty</th>\n",
       "      <th>event_date</th>\n",
       "      <th>year</th>\n",
       "      <th>time_precision</th>\n",
       "      <th>disorder_type</th>\n",
       "      <th>event_type</th>\n",
       "      <th>sub_event_type</th>\n",
       "      <th>actor1</th>\n",
       "      <th>assoc_actor_1</th>\n",
       "      <th>inter1</th>\n",
       "      <th>...</th>\n",
       "      <th>location</th>\n",
       "      <th>latitude</th>\n",
       "      <th>longitude</th>\n",
       "      <th>geo_precision</th>\n",
       "      <th>source</th>\n",
       "      <th>source_scale</th>\n",
       "      <th>notes</th>\n",
       "      <th>fatalities</th>\n",
       "      <th>tags</th>\n",
       "      <th>timestamp</th>\n",
       "    </tr>\n",
       "  </thead>\n",
       "  <tbody>\n",
       "    <tr>\n",
       "      <th>0</th>\n",
       "      <td>KEN9717</td>\n",
       "      <td>31 December 2022</td>\n",
       "      <td>2022</td>\n",
       "      <td>1</td>\n",
       "      <td>Political violence</td>\n",
       "      <td>Riots</td>\n",
       "      <td>Mob violence</td>\n",
       "      <td>Rioters (Kenya)</td>\n",
       "      <td>Vigilante Group (Kenya)</td>\n",
       "      <td>5</td>\n",
       "      <td>...</td>\n",
       "      <td>Kutus</td>\n",
       "      <td>-0.5753</td>\n",
       "      <td>37.3269</td>\n",
       "      <td>2</td>\n",
       "      <td>Kenya Standard; NTV (Kenya)</td>\n",
       "      <td>New media-National</td>\n",
       "      <td>On 31 December 2022, a mob lynched a man, part...</td>\n",
       "      <td>1</td>\n",
       "      <td>crowd size=no report</td>\n",
       "      <td>1673291087</td>\n",
       "    </tr>\n",
       "    <tr>\n",
       "      <th>1</th>\n",
       "      <td>BRA62473</td>\n",
       "      <td>31 December 2022</td>\n",
       "      <td>2022</td>\n",
       "      <td>1</td>\n",
       "      <td>Political violence</td>\n",
       "      <td>Riots</td>\n",
       "      <td>Mob violence</td>\n",
       "      <td>Rioters (Brazil)</td>\n",
       "      <td>Vigilante Group (Brazil)</td>\n",
       "      <td>5</td>\n",
       "      <td>...</td>\n",
       "      <td>Maues</td>\n",
       "      <td>-3.3795</td>\n",
       "      <td>-57.7196</td>\n",
       "      <td>1</td>\n",
       "      <td>Portal do Holanda</td>\n",
       "      <td>Subnational</td>\n",
       "      <td>On 31 December 2022, in Maues (Amazonas), a su...</td>\n",
       "      <td>0</td>\n",
       "      <td>crowd size=no report</td>\n",
       "      <td>1673295343</td>\n",
       "    </tr>\n",
       "    <tr>\n",
       "      <th>2</th>\n",
       "      <td>BRA62488</td>\n",
       "      <td>31 December 2022</td>\n",
       "      <td>2022</td>\n",
       "      <td>1</td>\n",
       "      <td>Political violence</td>\n",
       "      <td>Riots</td>\n",
       "      <td>Mob violence</td>\n",
       "      <td>Rioters (Brazil)</td>\n",
       "      <td>PL: Liberal Party</td>\n",
       "      <td>5</td>\n",
       "      <td>...</td>\n",
       "      <td>Catalao</td>\n",
       "      <td>-18.1670</td>\n",
       "      <td>-47.9448</td>\n",
       "      <td>1</td>\n",
       "      <td>Estado de Minas</td>\n",
       "      <td>National</td>\n",
       "      <td>Property destruction: On 31 December 2022, in ...</td>\n",
       "      <td>0</td>\n",
       "      <td>crowd size=no report</td>\n",
       "      <td>1673295343</td>\n",
       "    </tr>\n",
       "  </tbody>\n",
       "</table>\n",
       "<p>3 rows × 31 columns</p>\n",
       "</div>"
      ],
      "text/plain": [
       "  event_id_cnty        event_date  year  time_precision       disorder_type  \\\n",
       "0       KEN9717  31 December 2022  2022               1  Political violence   \n",
       "1      BRA62473  31 December 2022  2022               1  Political violence   \n",
       "2      BRA62488  31 December 2022  2022               1  Political violence   \n",
       "\n",
       "  event_type sub_event_type            actor1             assoc_actor_1  \\\n",
       "0      Riots   Mob violence   Rioters (Kenya)   Vigilante Group (Kenya)   \n",
       "1      Riots   Mob violence  Rioters (Brazil)  Vigilante Group (Brazil)   \n",
       "2      Riots   Mob violence  Rioters (Brazil)         PL: Liberal Party   \n",
       "\n",
       "   inter1  ... location latitude  longitude  geo_precision  \\\n",
       "0       5  ...    Kutus  -0.5753    37.3269              2   \n",
       "1       5  ...    Maues  -3.3795   -57.7196              1   \n",
       "2       5  ...  Catalao -18.1670   -47.9448              1   \n",
       "\n",
       "                        source        source_scale  \\\n",
       "0  Kenya Standard; NTV (Kenya)  New media-National   \n",
       "1            Portal do Holanda         Subnational   \n",
       "2              Estado de Minas            National   \n",
       "\n",
       "                                               notes fatalities  \\\n",
       "0  On 31 December 2022, a mob lynched a man, part...          1   \n",
       "1  On 31 December 2022, in Maues (Amazonas), a su...          0   \n",
       "2  Property destruction: On 31 December 2022, in ...          0   \n",
       "\n",
       "                   tags   timestamp  \n",
       "0  crowd size=no report  1673291087  \n",
       "1  crowd size=no report  1673295343  \n",
       "2  crowd size=no report  1673295343  \n",
       "\n",
       "[3 rows x 31 columns]"
      ]
     },
     "metadata": {},
     "output_type": "display_data"
    },
    {
     "data": {
      "text/html": [
       "<div>\n",
       "<style scoped>\n",
       "    .dataframe tbody tr th:only-of-type {\n",
       "        vertical-align: middle;\n",
       "    }\n",
       "\n",
       "    .dataframe tbody tr th {\n",
       "        vertical-align: top;\n",
       "    }\n",
       "\n",
       "    .dataframe thead th {\n",
       "        text-align: right;\n",
       "    }\n",
       "</style>\n",
       "<table border=\"1\" class=\"dataframe\">\n",
       "  <thead>\n",
       "    <tr style=\"text-align: right;\">\n",
       "      <th></th>\n",
       "      <th>event_id_cnty</th>\n",
       "      <th>event_date</th>\n",
       "      <th>year</th>\n",
       "      <th>time_precision</th>\n",
       "      <th>disorder_type</th>\n",
       "      <th>event_type</th>\n",
       "      <th>sub_event_type</th>\n",
       "      <th>actor1</th>\n",
       "      <th>assoc_actor_1</th>\n",
       "      <th>inter1</th>\n",
       "      <th>...</th>\n",
       "      <th>location</th>\n",
       "      <th>latitude</th>\n",
       "      <th>longitude</th>\n",
       "      <th>geo_precision</th>\n",
       "      <th>source</th>\n",
       "      <th>source_scale</th>\n",
       "      <th>notes</th>\n",
       "      <th>fatalities</th>\n",
       "      <th>tags</th>\n",
       "      <th>timestamp</th>\n",
       "    </tr>\n",
       "  </thead>\n",
       "  <tbody>\n",
       "    <tr>\n",
       "      <th>0</th>\n",
       "      <td>DRC27766</td>\n",
       "      <td>31 December 2022</td>\n",
       "      <td>2022</td>\n",
       "      <td>1</td>\n",
       "      <td>Political violence</td>\n",
       "      <td>Violence against civilians</td>\n",
       "      <td>Abduction/forced disappearance</td>\n",
       "      <td>Twirwaneho Ethnic Militia (Democratic Republic...</td>\n",
       "      <td>Banyamulenge Ethnic Militia (Democratic Republ...</td>\n",
       "      <td>4</td>\n",
       "      <td>...</td>\n",
       "      <td>Mikenge</td>\n",
       "      <td>-3.4497</td>\n",
       "      <td>28.4476</td>\n",
       "      <td>1</td>\n",
       "      <td>Kivu Times</td>\n",
       "      <td>Subnational</td>\n",
       "      <td>On 31 December 2022, Twirwaneho abducted a wom...</td>\n",
       "      <td>0</td>\n",
       "      <td>NaN</td>\n",
       "      <td>1673291085</td>\n",
       "    </tr>\n",
       "    <tr>\n",
       "      <th>1</th>\n",
       "      <td>SAF18067</td>\n",
       "      <td>31 December 2022</td>\n",
       "      <td>2022</td>\n",
       "      <td>1</td>\n",
       "      <td>Political violence</td>\n",
       "      <td>Violence against civilians</td>\n",
       "      <td>Attack</td>\n",
       "      <td>Unidentified Armed Group (South Africa)</td>\n",
       "      <td>NaN</td>\n",
       "      <td>3</td>\n",
       "      <td>...</td>\n",
       "      <td>Johannesburg</td>\n",
       "      <td>-26.2023</td>\n",
       "      <td>28.0436</td>\n",
       "      <td>1</td>\n",
       "      <td>Zambia Reports</td>\n",
       "      <td>International</td>\n",
       "      <td>On 31 December 2022, unknown suspects shot and...</td>\n",
       "      <td>1</td>\n",
       "      <td>NaN</td>\n",
       "      <td>1673291088</td>\n",
       "    </tr>\n",
       "    <tr>\n",
       "      <th>2</th>\n",
       "      <td>SOM38915</td>\n",
       "      <td>31 December 2022</td>\n",
       "      <td>2022</td>\n",
       "      <td>1</td>\n",
       "      <td>Political violence</td>\n",
       "      <td>Violence against civilians</td>\n",
       "      <td>Abduction/forced disappearance</td>\n",
       "      <td>Al Shabaab</td>\n",
       "      <td>NaN</td>\n",
       "      <td>2</td>\n",
       "      <td>...</td>\n",
       "      <td>Ted</td>\n",
       "      <td>4.4000</td>\n",
       "      <td>43.9167</td>\n",
       "      <td>2</td>\n",
       "      <td>Undisclosed Source</td>\n",
       "      <td>Local partner-Other</td>\n",
       "      <td>On 31 December 2022, Al Shabaab abducted three...</td>\n",
       "      <td>0</td>\n",
       "      <td>NaN</td>\n",
       "      <td>1673291088</td>\n",
       "    </tr>\n",
       "  </tbody>\n",
       "</table>\n",
       "<p>3 rows × 31 columns</p>\n",
       "</div>"
      ],
      "text/plain": [
       "  event_id_cnty        event_date  year  time_precision       disorder_type  \\\n",
       "0      DRC27766  31 December 2022  2022               1  Political violence   \n",
       "1      SAF18067  31 December 2022  2022               1  Political violence   \n",
       "2      SOM38915  31 December 2022  2022               1  Political violence   \n",
       "\n",
       "                   event_type                  sub_event_type  \\\n",
       "0  Violence against civilians  Abduction/forced disappearance   \n",
       "1  Violence against civilians                          Attack   \n",
       "2  Violence against civilians  Abduction/forced disappearance   \n",
       "\n",
       "                                              actor1  \\\n",
       "0  Twirwaneho Ethnic Militia (Democratic Republic...   \n",
       "1            Unidentified Armed Group (South Africa)   \n",
       "2                                         Al Shabaab   \n",
       "\n",
       "                                       assoc_actor_1  inter1  ...  \\\n",
       "0  Banyamulenge Ethnic Militia (Democratic Republ...       4  ...   \n",
       "1                                                NaN       3  ...   \n",
       "2                                                NaN       2  ...   \n",
       "\n",
       "       location latitude  longitude  geo_precision              source  \\\n",
       "0       Mikenge  -3.4497    28.4476              1          Kivu Times   \n",
       "1  Johannesburg -26.2023    28.0436              1      Zambia Reports   \n",
       "2           Ted   4.4000    43.9167              2  Undisclosed Source   \n",
       "\n",
       "          source_scale                                              notes  \\\n",
       "0          Subnational  On 31 December 2022, Twirwaneho abducted a wom...   \n",
       "1        International  On 31 December 2022, unknown suspects shot and...   \n",
       "2  Local partner-Other  On 31 December 2022, Al Shabaab abducted three...   \n",
       "\n",
       "  fatalities tags   timestamp  \n",
       "0          0  NaN  1673291085  \n",
       "1          1  NaN  1673291088  \n",
       "2          0  NaN  1673291088  \n",
       "\n",
       "[3 rows x 31 columns]"
      ]
     },
     "metadata": {},
     "output_type": "display_data"
    },
    {
     "data": {
      "text/html": [
       "<div>\n",
       "<style scoped>\n",
       "    .dataframe tbody tr th:only-of-type {\n",
       "        vertical-align: middle;\n",
       "    }\n",
       "\n",
       "    .dataframe tbody tr th {\n",
       "        vertical-align: top;\n",
       "    }\n",
       "\n",
       "    .dataframe thead th {\n",
       "        text-align: right;\n",
       "    }\n",
       "</style>\n",
       "<table border=\"1\" class=\"dataframe\">\n",
       "  <thead>\n",
       "    <tr style=\"text-align: right;\">\n",
       "      <th></th>\n",
       "      <th>Country Name</th>\n",
       "      <th>Country Code</th>\n",
       "      <th>Series Name</th>\n",
       "      <th>Series Code</th>\n",
       "      <th>2022 [YR2022]</th>\n",
       "    </tr>\n",
       "  </thead>\n",
       "  <tbody>\n",
       "    <tr>\n",
       "      <th>0</th>\n",
       "      <td>Afghanistan</td>\n",
       "      <td>AFG</td>\n",
       "      <td>Political Stability and Absence of Violence/Te...</td>\n",
       "      <td>PV.EST</td>\n",
       "      <td>-2.550801754</td>\n",
       "    </tr>\n",
       "    <tr>\n",
       "      <th>1</th>\n",
       "      <td>Afghanistan</td>\n",
       "      <td>AFG</td>\n",
       "      <td>Voice and Accountability: Estimate</td>\n",
       "      <td>VA.EST</td>\n",
       "      <td>-1.751587272</td>\n",
       "    </tr>\n",
       "    <tr>\n",
       "      <th>2</th>\n",
       "      <td>Korea, Dem. People's Rep.</td>\n",
       "      <td>PRK</td>\n",
       "      <td>Voice and Accountability: Percentile Rank</td>\n",
       "      <td>VA.PER.RNK</td>\n",
       "      <td>0</td>\n",
       "    </tr>\n",
       "  </tbody>\n",
       "</table>\n",
       "</div>"
      ],
      "text/plain": [
       "                Country Name Country Code  \\\n",
       "0                Afghanistan          AFG   \n",
       "1                Afghanistan          AFG   \n",
       "2  Korea, Dem. People's Rep.          PRK   \n",
       "\n",
       "                                         Series Name Series Code 2022 [YR2022]  \n",
       "0  Political Stability and Absence of Violence/Te...      PV.EST  -2.550801754  \n",
       "1                 Voice and Accountability: Estimate      VA.EST  -1.751587272  \n",
       "2          Voice and Accountability: Percentile Rank  VA.PER.RNK             0  "
      ]
     },
     "metadata": {},
     "output_type": "display_data"
    },
    {
     "data": {
      "text/html": [
       "<div>\n",
       "<style scoped>\n",
       "    .dataframe tbody tr th:only-of-type {\n",
       "        vertical-align: middle;\n",
       "    }\n",
       "\n",
       "    .dataframe tbody tr th {\n",
       "        vertical-align: top;\n",
       "    }\n",
       "\n",
       "    .dataframe thead th {\n",
       "        text-align: right;\n",
       "    }\n",
       "</style>\n",
       "<table border=\"1\" class=\"dataframe\">\n",
       "  <thead>\n",
       "    <tr style=\"text-align: right;\">\n",
       "      <th></th>\n",
       "      <th>CRI\\rRank</th>\n",
       "      <th>Country</th>\n",
       "      <th>CRI\\rscore</th>\n",
       "      <th>Fatalities\\rin 2018\\r(Rank)</th>\n",
       "      <th>Fatalities per\\r100 000 inhab-\\ritants (Rank)</th>\n",
       "      <th>Losses in mil-\\rlion US$ (PPP)\\r(Rank)</th>\n",
       "      <th>Losses per\\runit  GDP in\\r% (Rank)</th>\n",
       "    </tr>\n",
       "  </thead>\n",
       "  <tbody>\n",
       "    <tr>\n",
       "      <th>0</th>\n",
       "      <td>1</td>\n",
       "      <td>Japan</td>\n",
       "      <td>5.50</td>\n",
       "      <td>2</td>\n",
       "      <td>2</td>\n",
       "      <td>3</td>\n",
       "      <td>12</td>\n",
       "    </tr>\n",
       "    <tr>\n",
       "      <th>1</th>\n",
       "      <td>2</td>\n",
       "      <td>Philippines</td>\n",
       "      <td>11.17</td>\n",
       "      <td>4</td>\n",
       "      <td>14</td>\n",
       "      <td>7</td>\n",
       "      <td>14</td>\n",
       "    </tr>\n",
       "    <tr>\n",
       "      <th>2</th>\n",
       "      <td>3</td>\n",
       "      <td>Germany</td>\n",
       "      <td>13.83</td>\n",
       "      <td>3</td>\n",
       "      <td>1</td>\n",
       "      <td>6</td>\n",
       "      <td>36</td>\n",
       "    </tr>\n",
       "  </tbody>\n",
       "</table>\n",
       "</div>"
      ],
      "text/plain": [
       "   CRI\\rRank      Country  CRI\\rscore  Fatalities\\rin 2018\\r(Rank)  \\\n",
       "0          1        Japan        5.50                            2   \n",
       "1          2  Philippines       11.17                            4   \n",
       "2          3      Germany       13.83                            3   \n",
       "\n",
       "   Fatalities per\\r100 000 inhab-\\ritants (Rank)  \\\n",
       "0                                              2   \n",
       "1                                             14   \n",
       "2                                              1   \n",
       "\n",
       "   Losses in mil-\\rlion US$ (PPP)\\r(Rank)  Losses per\\runit  GDP in\\r% (Rank)  \n",
       "0                                       3                                  12  \n",
       "1                                       7                                  14  \n",
       "2                                       6                                  36  "
      ]
     },
     "metadata": {},
     "output_type": "display_data"
    },
    {
     "data": {
      "text/html": [
       "<div>\n",
       "<style scoped>\n",
       "    .dataframe tbody tr th:only-of-type {\n",
       "        vertical-align: middle;\n",
       "    }\n",
       "\n",
       "    .dataframe tbody tr th {\n",
       "        vertical-align: top;\n",
       "    }\n",
       "\n",
       "    .dataframe thead th {\n",
       "        text-align: right;\n",
       "    }\n",
       "</style>\n",
       "<table border=\"1\" class=\"dataframe\">\n",
       "  <thead>\n",
       "    <tr style=\"text-align: right;\">\n",
       "      <th></th>\n",
       "      <th>HDI Ranking</th>\n",
       "      <th>Country</th>\n",
       "      <th>GII</th>\n",
       "      <th>GII Ranking</th>\n",
       "      <th>Maternal mortality ratio</th>\n",
       "      <th>Adolescent birth rate</th>\n",
       "      <th>Share of seats in parliament</th>\n",
       "      <th>Population with at least some secondary education-Female</th>\n",
       "      <th>Population with at least some secondary education-Male</th>\n",
       "      <th>Labour force participation rate-Female</th>\n",
       "      <th>Labour force participation rate-Male</th>\n",
       "    </tr>\n",
       "  </thead>\n",
       "  <tbody>\n",
       "    <tr>\n",
       "      <th>0</th>\n",
       "      <td>1</td>\n",
       "      <td>Switzerland</td>\n",
       "      <td>0.018</td>\n",
       "      <td>3</td>\n",
       "      <td>7.378755</td>\n",
       "      <td>2.200</td>\n",
       "      <td>39.02439</td>\n",
       "      <td>96.939726</td>\n",
       "      <td>97.517437</td>\n",
       "      <td>61.49</td>\n",
       "      <td>71.94</td>\n",
       "    </tr>\n",
       "    <tr>\n",
       "      <th>1</th>\n",
       "      <td>2</td>\n",
       "      <td>Norway</td>\n",
       "      <td>0.012</td>\n",
       "      <td>2</td>\n",
       "      <td>1.663741</td>\n",
       "      <td>2.195</td>\n",
       "      <td>44.970414</td>\n",
       "      <td>99.094031</td>\n",
       "      <td>99.27498</td>\n",
       "      <td>62.53</td>\n",
       "      <td>69.59</td>\n",
       "    </tr>\n",
       "    <tr>\n",
       "      <th>2</th>\n",
       "      <td>3</td>\n",
       "      <td>Iceland</td>\n",
       "      <td>0.039</td>\n",
       "      <td>9</td>\n",
       "      <td>2.654418</td>\n",
       "      <td>5.077</td>\n",
       "      <td>47.619048</td>\n",
       "      <td>99.768417</td>\n",
       "      <td>99.662552</td>\n",
       "      <td>70.7</td>\n",
       "      <td>78.29</td>\n",
       "    </tr>\n",
       "  </tbody>\n",
       "</table>\n",
       "</div>"
      ],
      "text/plain": [
       "   HDI Ranking      Country    GII GII Ranking Maternal mortality ratio  \\\n",
       "0            1  Switzerland  0.018           3                 7.378755   \n",
       "1            2       Norway  0.012           2                 1.663741   \n",
       "2            3      Iceland  0.039           9                 2.654418   \n",
       "\n",
       "   Adolescent birth rate Share of seats in parliament  \\\n",
       "0                  2.200                     39.02439   \n",
       "1                  2.195                    44.970414   \n",
       "2                  5.077                    47.619048   \n",
       "\n",
       "  Population with at least some secondary education-Female  \\\n",
       "0                                          96.939726         \n",
       "1                                          99.094031         \n",
       "2                                          99.768417         \n",
       "\n",
       "  Population with at least some secondary education-Male  \\\n",
       "0                                          97.517437       \n",
       "1                                           99.27498       \n",
       "2                                          99.662552       \n",
       "\n",
       "  Labour force participation rate-Female Labour force participation rate-Male  \n",
       "0                                  61.49                                71.94  \n",
       "1                                  62.53                                69.59  \n",
       "2                                   70.7                                78.29  "
      ]
     },
     "metadata": {},
     "output_type": "display_data"
    }
   ],
   "source": [
    "# Main Immigration Dataset: Import Eurostat Immigration/2022 Dataset\n",
    "euim22 = pd.read_csv('Eurostat-2022Migration-migr_imm1ctz__custom_10841676_linear.csv')\n",
    "display(euim22.head(3))\n",
    "\n",
    "# Total number of observations: 119479\n",
    "display(len(euim22))\n",
    "\n",
    "# Import Datahub.io 2-digit Country Codes dataset\n",
    "country_codes2 = pd.read_csv('Datahub-CountryCodes-data_csv.csv')\n",
    "display(country_codes2.head(3))\n",
    "\n",
    "# Import UN 3-digit Country Codes dataset\n",
    "country_codes3 = pd.read_csv('UN-iso3.csv')\n",
    "display(country_codes3.head(3))\n",
    "\n",
    "# Economic Indicator1: WB 2022 GDP/PC\n",
    "gdppc = pd.read_csv('WB-2022GDPPC-Const.csv')\n",
    "display(gdppc.head(3))\n",
    "\n",
    "# Economic Indicator2: WB 2023 Multidimensional Poverty Measure\n",
    "mpm = pd.read_excel('WB-2022MPM-Data-AM2022.xlsx')\n",
    "display(mpm.head(3))\n",
    "\n",
    "# Conflict Indicator1: ACLED 2022 Battles Dataset\n",
    "battle = pd.read_csv('ACLED-2022Battles.csv')\n",
    "display(battle.head(3))\n",
    "\n",
    "# Conflict Indicator2: ACLED 2022 Riots Dataset\n",
    "riot = pd.read_csv('ACLED-2022Riots.csv')\n",
    "display(riot.head(3))\n",
    "\n",
    "# Conflict Indicator3: ACLED 2022 Violence Dataset\n",
    "violence = pd.read_csv('ACLED-2022ViolencesCivilians.csv')\n",
    "display(violence.head(3))\n",
    "\n",
    "# Political Indicators: WB Governance Indicators\n",
    "govern = pd.read_csv('WB-2022GovIndic.csv')\n",
    "display(govern.head(3))\n",
    "\n",
    "# Climate Indicator: German Watch Climate Risk Index\n",
    "climate = pd.read_csv('GermanWatch-2018CRI.csv')\n",
    "display(climate.head(3))\n",
    "\n",
    "# Gender Equality Indicator: UNDP Gender Inequality Index\n",
    "gender = pd.read_excel('UNDP-2022GII-HDR23-24_Statistical_Annex_GII_Table.xlsx')\n",
    "display(gender.head(3))"
   ]
  },
  {
   "cell_type": "markdown",
   "metadata": {
    "id": "WS-RtlkbWVL2"
   },
   "source": [
    "### Transform and Tidy Data"
   ]
  },
  {
   "cell_type": "code",
   "execution_count": 4,
   "metadata": {
    "colab": {
     "base_uri": "https://localhost:8080/"
    },
    "executionInfo": {
     "elapsed": 172,
     "status": "ok",
     "timestamp": 1712951670009,
     "user": {
      "displayName": "Barış ALAN",
      "userId": "17887961324607480771"
     },
     "user_tz": 300
    },
    "id": "J5qzXfZVoWTo",
    "outputId": "d0a7fe95-97ee-4508-f359-d0040424e2ee"
   },
   "outputs": [
    {
     "data": {
      "text/plain": [
       "DATAFLOW       object\n",
       "LAST UPDATE    object\n",
       "freq           object\n",
       "citizen        object\n",
       "agedef         object\n",
       "age            object\n",
       "unit           object\n",
       "sex            object\n",
       "geo            object\n",
       "TIME_PERIOD     int64\n",
       "OBS_VALUE       int64\n",
       "OBS_FLAG       object\n",
       "dtype: object"
      ]
     },
     "execution_count": 4,
     "metadata": {},
     "output_type": "execute_result"
    }
   ],
   "source": [
    "# Check the dtypes for euim22\n",
    "# The year (TIME_PERIOD) and flow (OBS_VALUE) columns are integer, and the rest is object as expected.\n",
    "euim22.dtypes"
   ]
  },
  {
   "cell_type": "code",
   "execution_count": 5,
   "metadata": {
    "colab": {
     "base_uri": "https://localhost:8080/",
     "height": 204
    },
    "executionInfo": {
     "elapsed": 245,
     "status": "ok",
     "timestamp": 1712951671946,
     "user": {
      "displayName": "Barış ALAN",
      "userId": "17887961324607480771"
     },
     "user_tz": 300
    },
    "id": "B_1aTtG6SOFs",
    "outputId": "ab08dd94-24a5-4954-b081-d234e483b442"
   },
   "outputs": [
    {
     "data": {
      "text/html": [
       "<div>\n",
       "<style scoped>\n",
       "    .dataframe tbody tr th:only-of-type {\n",
       "        vertical-align: middle;\n",
       "    }\n",
       "\n",
       "    .dataframe tbody tr th {\n",
       "        vertical-align: top;\n",
       "    }\n",
       "\n",
       "    .dataframe thead th {\n",
       "        text-align: right;\n",
       "    }\n",
       "</style>\n",
       "<table border=\"1\" class=\"dataframe\">\n",
       "  <thead>\n",
       "    <tr style=\"text-align: right;\">\n",
       "      <th></th>\n",
       "      <th>citizen</th>\n",
       "      <th>age</th>\n",
       "      <th>sex</th>\n",
       "      <th>geo</th>\n",
       "      <th>TIME_PERIOD</th>\n",
       "      <th>OBS_VALUE</th>\n",
       "    </tr>\n",
       "  </thead>\n",
       "  <tbody>\n",
       "    <tr>\n",
       "      <th>0</th>\n",
       "      <td>AD</td>\n",
       "      <td>TOTAL</td>\n",
       "      <td>F</td>\n",
       "      <td>AT</td>\n",
       "      <td>2022</td>\n",
       "      <td>0</td>\n",
       "    </tr>\n",
       "    <tr>\n",
       "      <th>1</th>\n",
       "      <td>AD</td>\n",
       "      <td>TOTAL</td>\n",
       "      <td>F</td>\n",
       "      <td>BG</td>\n",
       "      <td>2022</td>\n",
       "      <td>0</td>\n",
       "    </tr>\n",
       "    <tr>\n",
       "      <th>2</th>\n",
       "      <td>AD</td>\n",
       "      <td>TOTAL</td>\n",
       "      <td>F</td>\n",
       "      <td>CZ</td>\n",
       "      <td>2022</td>\n",
       "      <td>0</td>\n",
       "    </tr>\n",
       "    <tr>\n",
       "      <th>3</th>\n",
       "      <td>AD</td>\n",
       "      <td>TOTAL</td>\n",
       "      <td>F</td>\n",
       "      <td>EE</td>\n",
       "      <td>2022</td>\n",
       "      <td>0</td>\n",
       "    </tr>\n",
       "    <tr>\n",
       "      <th>4</th>\n",
       "      <td>AD</td>\n",
       "      <td>TOTAL</td>\n",
       "      <td>F</td>\n",
       "      <td>FI</td>\n",
       "      <td>2022</td>\n",
       "      <td>0</td>\n",
       "    </tr>\n",
       "  </tbody>\n",
       "</table>\n",
       "</div>"
      ],
      "text/plain": [
       "  citizen    age sex geo  TIME_PERIOD  OBS_VALUE\n",
       "0      AD  TOTAL   F  AT         2022          0\n",
       "1      AD  TOTAL   F  BG         2022          0\n",
       "2      AD  TOTAL   F  CZ         2022          0\n",
       "3      AD  TOTAL   F  EE         2022          0\n",
       "4      AD  TOTAL   F  FI         2022          0"
      ]
     },
     "execution_count": 5,
     "metadata": {},
     "output_type": "execute_result"
    }
   ],
   "source": [
    "# Keep only necessary columns and drop redundant ones\n",
    "euim22 = euim22[['citizen', 'age', 'sex', 'geo', 'TIME_PERIOD', 'OBS_VALUE']]\n",
    "euim22.head()"
   ]
  },
  {
   "cell_type": "code",
   "execution_count": 6,
   "metadata": {
    "colab": {
     "base_uri": "https://localhost:8080/",
     "height": 204
    },
    "executionInfo": {
     "elapsed": 250,
     "status": "ok",
     "timestamp": 1712951673714,
     "user": {
      "displayName": "Barış ALAN",
      "userId": "17887961324607480771"
     },
     "user_tz": 300
    },
    "id": "wsvJPnSXUhu7",
    "outputId": "b40e7adc-e030-4da5-c1c9-da16af0d6e82"
   },
   "outputs": [
    {
     "data": {
      "text/html": [
       "<div>\n",
       "<style scoped>\n",
       "    .dataframe tbody tr th:only-of-type {\n",
       "        vertical-align: middle;\n",
       "    }\n",
       "\n",
       "    .dataframe tbody tr th {\n",
       "        vertical-align: top;\n",
       "    }\n",
       "\n",
       "    .dataframe thead th {\n",
       "        text-align: right;\n",
       "    }\n",
       "</style>\n",
       "<table border=\"1\" class=\"dataframe\">\n",
       "  <thead>\n",
       "    <tr style=\"text-align: right;\">\n",
       "      <th></th>\n",
       "      <th>Migrant_Citizenship</th>\n",
       "      <th>Age</th>\n",
       "      <th>Gender</th>\n",
       "      <th>Receiving_CCode</th>\n",
       "      <th>Year</th>\n",
       "      <th>Flow</th>\n",
       "    </tr>\n",
       "  </thead>\n",
       "  <tbody>\n",
       "    <tr>\n",
       "      <th>0</th>\n",
       "      <td>AD</td>\n",
       "      <td>TOTAL</td>\n",
       "      <td>F</td>\n",
       "      <td>AT</td>\n",
       "      <td>2022</td>\n",
       "      <td>0</td>\n",
       "    </tr>\n",
       "    <tr>\n",
       "      <th>1</th>\n",
       "      <td>AD</td>\n",
       "      <td>TOTAL</td>\n",
       "      <td>F</td>\n",
       "      <td>BG</td>\n",
       "      <td>2022</td>\n",
       "      <td>0</td>\n",
       "    </tr>\n",
       "    <tr>\n",
       "      <th>2</th>\n",
       "      <td>AD</td>\n",
       "      <td>TOTAL</td>\n",
       "      <td>F</td>\n",
       "      <td>CZ</td>\n",
       "      <td>2022</td>\n",
       "      <td>0</td>\n",
       "    </tr>\n",
       "    <tr>\n",
       "      <th>3</th>\n",
       "      <td>AD</td>\n",
       "      <td>TOTAL</td>\n",
       "      <td>F</td>\n",
       "      <td>EE</td>\n",
       "      <td>2022</td>\n",
       "      <td>0</td>\n",
       "    </tr>\n",
       "    <tr>\n",
       "      <th>4</th>\n",
       "      <td>AD</td>\n",
       "      <td>TOTAL</td>\n",
       "      <td>F</td>\n",
       "      <td>FI</td>\n",
       "      <td>2022</td>\n",
       "      <td>0</td>\n",
       "    </tr>\n",
       "  </tbody>\n",
       "</table>\n",
       "</div>"
      ],
      "text/plain": [
       "  Migrant_Citizenship    Age Gender Receiving_CCode  Year  Flow\n",
       "0                  AD  TOTAL      F              AT  2022     0\n",
       "1                  AD  TOTAL      F              BG  2022     0\n",
       "2                  AD  TOTAL      F              CZ  2022     0\n",
       "3                  AD  TOTAL      F              EE  2022     0\n",
       "4                  AD  TOTAL      F              FI  2022     0"
      ]
     },
     "execution_count": 6,
     "metadata": {},
     "output_type": "execute_result"
    }
   ],
   "source": [
    "# Rename columns for readability\n",
    "euim22.rename(columns={'citizen':'Migrant_Citizenship',\n",
    "                        'age': 'Age',\n",
    "                        'sex': 'Gender',\n",
    "                        'geo':'Receiving_CCode',\n",
    "                        'TIME_PERIOD':'Year',\n",
    "                        'OBS_VALUE':'Flow'},inplace=True)\n",
    "euim22.head()"
   ]
  },
  {
   "cell_type": "markdown",
   "metadata": {
    "id": "6xkfsaD7Fc9S"
   },
   "source": [
    "\n",
    "---\n",
    "Despite the Eurostat data dashboard displaying country names for the country codes, the downloaded dataset does not include country names. This is why I will leverage the \"country_codes2\" dataset from datahub.io to retrieve country names for both Citizenship and Receiving Country Code codes. This step ensures a comprehensive and accurate representation of country names in the analysis.\n",
    "\n",
    "---"
   ]
  },
  {
   "cell_type": "code",
   "execution_count": 7,
   "metadata": {
    "colab": {
     "base_uri": "https://localhost:8080/",
     "height": 204
    },
    "executionInfo": {
     "elapsed": 124,
     "status": "ok",
     "timestamp": 1712951675787,
     "user": {
      "displayName": "Barış ALAN",
      "userId": "17887961324607480771"
     },
     "user_tz": 300
    },
    "id": "IEtZmj20aM7E",
    "outputId": "aa9cb752-dbd3-4f39-91a9-9447245e4ab3"
   },
   "outputs": [
    {
     "data": {
      "text/html": [
       "<div>\n",
       "<style scoped>\n",
       "    .dataframe tbody tr th:only-of-type {\n",
       "        vertical-align: middle;\n",
       "    }\n",
       "\n",
       "    .dataframe tbody tr th {\n",
       "        vertical-align: top;\n",
       "    }\n",
       "\n",
       "    .dataframe thead th {\n",
       "        text-align: right;\n",
       "    }\n",
       "</style>\n",
       "<table border=\"1\" class=\"dataframe\">\n",
       "  <thead>\n",
       "    <tr style=\"text-align: right;\">\n",
       "      <th></th>\n",
       "      <th>Migrant_Citizenship</th>\n",
       "      <th>Sending_Country</th>\n",
       "      <th>Age</th>\n",
       "      <th>Gender</th>\n",
       "      <th>Receiving_CCode</th>\n",
       "      <th>Year</th>\n",
       "      <th>Flow</th>\n",
       "    </tr>\n",
       "  </thead>\n",
       "  <tbody>\n",
       "    <tr>\n",
       "      <th>0</th>\n",
       "      <td>AD</td>\n",
       "      <td>Andorra</td>\n",
       "      <td>TOTAL</td>\n",
       "      <td>F</td>\n",
       "      <td>AT</td>\n",
       "      <td>2022</td>\n",
       "      <td>0</td>\n",
       "    </tr>\n",
       "    <tr>\n",
       "      <th>1</th>\n",
       "      <td>AD</td>\n",
       "      <td>Andorra</td>\n",
       "      <td>TOTAL</td>\n",
       "      <td>F</td>\n",
       "      <td>BG</td>\n",
       "      <td>2022</td>\n",
       "      <td>0</td>\n",
       "    </tr>\n",
       "    <tr>\n",
       "      <th>2</th>\n",
       "      <td>AD</td>\n",
       "      <td>Andorra</td>\n",
       "      <td>TOTAL</td>\n",
       "      <td>F</td>\n",
       "      <td>CZ</td>\n",
       "      <td>2022</td>\n",
       "      <td>0</td>\n",
       "    </tr>\n",
       "    <tr>\n",
       "      <th>3</th>\n",
       "      <td>AD</td>\n",
       "      <td>Andorra</td>\n",
       "      <td>TOTAL</td>\n",
       "      <td>F</td>\n",
       "      <td>EE</td>\n",
       "      <td>2022</td>\n",
       "      <td>0</td>\n",
       "    </tr>\n",
       "    <tr>\n",
       "      <th>4</th>\n",
       "      <td>AD</td>\n",
       "      <td>Andorra</td>\n",
       "      <td>TOTAL</td>\n",
       "      <td>F</td>\n",
       "      <td>FI</td>\n",
       "      <td>2022</td>\n",
       "      <td>0</td>\n",
       "    </tr>\n",
       "  </tbody>\n",
       "</table>\n",
       "</div>"
      ],
      "text/plain": [
       "  Migrant_Citizenship Sending_Country    Age Gender Receiving_CCode  Year  \\\n",
       "0                  AD         Andorra  TOTAL      F              AT  2022   \n",
       "1                  AD         Andorra  TOTAL      F              BG  2022   \n",
       "2                  AD         Andorra  TOTAL      F              CZ  2022   \n",
       "3                  AD         Andorra  TOTAL      F              EE  2022   \n",
       "4                  AD         Andorra  TOTAL      F              FI  2022   \n",
       "\n",
       "   Flow  \n",
       "0     0  \n",
       "1     0  \n",
       "2     0  \n",
       "3     0  \n",
       "4     0  "
      ]
     },
     "execution_count": 7,
     "metadata": {},
     "output_type": "execute_result"
    }
   ],
   "source": [
    "# Bring country name information for Migrant Citizenship column (left join to keep all observations at euim_21)\n",
    "euim22 = pd.merge(euim22, country_codes2, left_on='Migrant_Citizenship', right_on='Code', how='left')\n",
    "\n",
    "# Drop the redundant \"Code\" column\n",
    "euim22.drop('Code', axis=1, inplace=True)\n",
    "\n",
    "# Rename the 'Name' column to 'Sending_Country'\n",
    "euim22.rename(columns={'Name':'Sending_Country'}, inplace=True)\n",
    "\n",
    "# Move Migrant_Country after Migrant_Citizenship\n",
    "col = euim22.pop('Sending_Country')\n",
    "euim22.insert(1, col.name, col)\n",
    "\n",
    "\n",
    "euim22.head()"
   ]
  },
  {
   "cell_type": "code",
   "execution_count": 8,
   "metadata": {
    "colab": {
     "base_uri": "https://localhost:8080/",
     "height": 204
    },
    "executionInfo": {
     "elapsed": 259,
     "status": "ok",
     "timestamp": 1712951678497,
     "user": {
      "displayName": "Barış ALAN",
      "userId": "17887961324607480771"
     },
     "user_tz": 300
    },
    "id": "qq2TMFG5mWPX",
    "outputId": "3841d2c7-f50c-41af-95f0-da57a5598ac7"
   },
   "outputs": [
    {
     "data": {
      "text/html": [
       "<div>\n",
       "<style scoped>\n",
       "    .dataframe tbody tr th:only-of-type {\n",
       "        vertical-align: middle;\n",
       "    }\n",
       "\n",
       "    .dataframe tbody tr th {\n",
       "        vertical-align: top;\n",
       "    }\n",
       "\n",
       "    .dataframe thead th {\n",
       "        text-align: right;\n",
       "    }\n",
       "</style>\n",
       "<table border=\"1\" class=\"dataframe\">\n",
       "  <thead>\n",
       "    <tr style=\"text-align: right;\">\n",
       "      <th></th>\n",
       "      <th>Migrant_Citizenship</th>\n",
       "      <th>Sending_Country</th>\n",
       "      <th>Age</th>\n",
       "      <th>Gender</th>\n",
       "      <th>Receiving_CCode</th>\n",
       "      <th>Receiving_Country</th>\n",
       "      <th>Year</th>\n",
       "      <th>Flow</th>\n",
       "    </tr>\n",
       "  </thead>\n",
       "  <tbody>\n",
       "    <tr>\n",
       "      <th>0</th>\n",
       "      <td>AD</td>\n",
       "      <td>Andorra</td>\n",
       "      <td>TOTAL</td>\n",
       "      <td>F</td>\n",
       "      <td>AT</td>\n",
       "      <td>Austria</td>\n",
       "      <td>2022</td>\n",
       "      <td>0</td>\n",
       "    </tr>\n",
       "    <tr>\n",
       "      <th>1</th>\n",
       "      <td>AD</td>\n",
       "      <td>Andorra</td>\n",
       "      <td>TOTAL</td>\n",
       "      <td>F</td>\n",
       "      <td>BG</td>\n",
       "      <td>Bulgaria</td>\n",
       "      <td>2022</td>\n",
       "      <td>0</td>\n",
       "    </tr>\n",
       "    <tr>\n",
       "      <th>2</th>\n",
       "      <td>AD</td>\n",
       "      <td>Andorra</td>\n",
       "      <td>TOTAL</td>\n",
       "      <td>F</td>\n",
       "      <td>CZ</td>\n",
       "      <td>Czech Republic</td>\n",
       "      <td>2022</td>\n",
       "      <td>0</td>\n",
       "    </tr>\n",
       "    <tr>\n",
       "      <th>3</th>\n",
       "      <td>AD</td>\n",
       "      <td>Andorra</td>\n",
       "      <td>TOTAL</td>\n",
       "      <td>F</td>\n",
       "      <td>EE</td>\n",
       "      <td>Estonia</td>\n",
       "      <td>2022</td>\n",
       "      <td>0</td>\n",
       "    </tr>\n",
       "    <tr>\n",
       "      <th>4</th>\n",
       "      <td>AD</td>\n",
       "      <td>Andorra</td>\n",
       "      <td>TOTAL</td>\n",
       "      <td>F</td>\n",
       "      <td>FI</td>\n",
       "      <td>Finland</td>\n",
       "      <td>2022</td>\n",
       "      <td>0</td>\n",
       "    </tr>\n",
       "  </tbody>\n",
       "</table>\n",
       "</div>"
      ],
      "text/plain": [
       "  Migrant_Citizenship Sending_Country    Age Gender Receiving_CCode  \\\n",
       "0                  AD         Andorra  TOTAL      F              AT   \n",
       "1                  AD         Andorra  TOTAL      F              BG   \n",
       "2                  AD         Andorra  TOTAL      F              CZ   \n",
       "3                  AD         Andorra  TOTAL      F              EE   \n",
       "4                  AD         Andorra  TOTAL      F              FI   \n",
       "\n",
       "  Receiving_Country  Year  Flow  \n",
       "0           Austria  2022     0  \n",
       "1          Bulgaria  2022     0  \n",
       "2    Czech Republic  2022     0  \n",
       "3           Estonia  2022     0  \n",
       "4           Finland  2022     0  "
      ]
     },
     "execution_count": 8,
     "metadata": {},
     "output_type": "execute_result"
    }
   ],
   "source": [
    "# Bring country name information for Receiving Country Column (left join to keep all observations at euim_22)\n",
    "euim22 = pd.merge(euim22, country_codes2, left_on='Receiving_CCode', right_on='Code', how='left')\n",
    "\n",
    "# Drop the redundant \"Code\" column\n",
    "euim22.drop('Code', axis=1, inplace=True)\n",
    "\n",
    "# Rename the 'Name' column to 'Receiving_Country'\n",
    "euim22.rename(columns={'Name':'Receiving_Country'}, inplace=True)\n",
    "\n",
    "# Move Receiving_Country after Receiving_CCode\n",
    "col = euim22.pop('Receiving_Country')\n",
    "euim22.insert(5, col.name, col)\n",
    "\n",
    "\n",
    "euim22.head()"
   ]
  },
  {
   "cell_type": "code",
   "execution_count": 9,
   "metadata": {
    "colab": {
     "base_uri": "https://localhost:8080/"
    },
    "executionInfo": {
     "elapsed": 165,
     "status": "ok",
     "timestamp": 1712951680679,
     "user": {
      "displayName": "Barış ALAN",
      "userId": "17887961324607480771"
     },
     "user_tz": 300
    },
    "id": "qzyLFF-Nxqh9",
    "outputId": "b4a60d5f-efc5-4b1e-8997-d67318293190"
   },
   "outputs": [
    {
     "data": {
      "text/plain": [
       "119479"
      ]
     },
     "execution_count": 9,
     "metadata": {},
     "output_type": "execute_result"
    }
   ],
   "source": [
    "# Check if we lost any cells at the merge operations.\n",
    "# We had 119479 observations at the beginning, and and it is still there, we are not missing anything.\n",
    "len(euim22)"
   ]
  },
  {
   "cell_type": "code",
   "execution_count": 10,
   "metadata": {
    "colab": {
     "base_uri": "https://localhost:8080/",
     "height": 1000
    },
    "executionInfo": {
     "elapsed": 251,
     "status": "ok",
     "timestamp": 1712951682283,
     "user": {
      "displayName": "Barış ALAN",
      "userId": "17887961324607480771"
     },
     "user_tz": 300
    },
    "id": "PRKgG_iIpkbY",
    "outputId": "1db1d4da-7443-4c47-8b76-12d3387ab9cf"
   },
   "outputs": [
    {
     "data": {
      "text/plain": [
       "array(['EL', 'EU27_2020'], dtype=object)"
      ]
     },
     "execution_count": 10,
     "metadata": {},
     "output_type": "execute_result"
    }
   ],
   "source": [
    "# Is there any missing values under Receiving_Country?\n",
    "# 'EL' is country code for Greece. Greece is using both 'GR' (in international systems) and 'EL' (in European systems) as its country code.\n",
    "# 'EU27_2020' is the code for 27 EU countries.\n",
    "euim22[euim22['Receiving_Country'].isna()]['Receiving_CCode'].unique()"
   ]
  },
  {
   "cell_type": "code",
   "execution_count": 11,
   "metadata": {
    "colab": {
     "base_uri": "https://localhost:8080/",
     "height": 204
    },
    "executionInfo": {
     "elapsed": 269,
     "status": "ok",
     "timestamp": 1712951685270,
     "user": {
      "displayName": "Barış ALAN",
      "userId": "17887961324607480771"
     },
     "user_tz": 300
    },
    "id": "6rcm7brN4CEB",
    "outputId": "22be4c68-4ee6-41ae-8f48-c6103c8ef0fb"
   },
   "outputs": [
    {
     "data": {
      "text/html": [
       "<div>\n",
       "<style scoped>\n",
       "    .dataframe tbody tr th:only-of-type {\n",
       "        vertical-align: middle;\n",
       "    }\n",
       "\n",
       "    .dataframe tbody tr th {\n",
       "        vertical-align: top;\n",
       "    }\n",
       "\n",
       "    .dataframe thead th {\n",
       "        text-align: right;\n",
       "    }\n",
       "</style>\n",
       "<table border=\"1\" class=\"dataframe\">\n",
       "  <thead>\n",
       "    <tr style=\"text-align: right;\">\n",
       "      <th></th>\n",
       "      <th>Migrant_Citizenship</th>\n",
       "      <th>Sending_Country</th>\n",
       "      <th>Age</th>\n",
       "      <th>Gender</th>\n",
       "      <th>Receiving_CCode</th>\n",
       "      <th>Receiving_Country</th>\n",
       "      <th>Year</th>\n",
       "      <th>Flow</th>\n",
       "    </tr>\n",
       "  </thead>\n",
       "  <tbody>\n",
       "    <tr>\n",
       "      <th>21798</th>\n",
       "      <td>CC8_22_FOR</td>\n",
       "      <td>NaN</td>\n",
       "      <td>TOTAL</td>\n",
       "      <td>F</td>\n",
       "      <td>EL</td>\n",
       "      <td>Greece</td>\n",
       "      <td>2022</td>\n",
       "      <td>18332</td>\n",
       "    </tr>\n",
       "    <tr>\n",
       "      <th>21800</th>\n",
       "      <td>CC8_22_FOR</td>\n",
       "      <td>NaN</td>\n",
       "      <td>TOTAL</td>\n",
       "      <td>F</td>\n",
       "      <td>EU27_2020</td>\n",
       "      <td>EU27</td>\n",
       "      <td>2022</td>\n",
       "      <td>1406470</td>\n",
       "    </tr>\n",
       "    <tr>\n",
       "      <th>21830</th>\n",
       "      <td>CC8_22_FOR</td>\n",
       "      <td>NaN</td>\n",
       "      <td>TOTAL</td>\n",
       "      <td>M</td>\n",
       "      <td>EL</td>\n",
       "      <td>Greece</td>\n",
       "      <td>2022</td>\n",
       "      <td>10646</td>\n",
       "    </tr>\n",
       "    <tr>\n",
       "      <th>21832</th>\n",
       "      <td>CC8_22_FOR</td>\n",
       "      <td>NaN</td>\n",
       "      <td>TOTAL</td>\n",
       "      <td>M</td>\n",
       "      <td>EU27_2020</td>\n",
       "      <td>EU27</td>\n",
       "      <td>2022</td>\n",
       "      <td>952353</td>\n",
       "    </tr>\n",
       "    <tr>\n",
       "      <th>21862</th>\n",
       "      <td>CC8_22_FOR</td>\n",
       "      <td>NaN</td>\n",
       "      <td>TOTAL</td>\n",
       "      <td>T</td>\n",
       "      <td>EL</td>\n",
       "      <td>Greece</td>\n",
       "      <td>2022</td>\n",
       "      <td>28978</td>\n",
       "    </tr>\n",
       "  </tbody>\n",
       "</table>\n",
       "</div>"
      ],
      "text/plain": [
       "      Migrant_Citizenship Sending_Country    Age Gender Receiving_CCode  \\\n",
       "21798          CC8_22_FOR             NaN  TOTAL      F              EL   \n",
       "21800          CC8_22_FOR             NaN  TOTAL      F       EU27_2020   \n",
       "21830          CC8_22_FOR             NaN  TOTAL      M              EL   \n",
       "21832          CC8_22_FOR             NaN  TOTAL      M       EU27_2020   \n",
       "21862          CC8_22_FOR             NaN  TOTAL      T              EL   \n",
       "\n",
       "      Receiving_Country  Year     Flow  \n",
       "21798            Greece  2022    18332  \n",
       "21800              EU27  2022  1406470  \n",
       "21830            Greece  2022    10646  \n",
       "21832              EU27  2022   952353  \n",
       "21862            Greece  2022    28978  "
      ]
     },
     "execution_count": 11,
     "metadata": {},
     "output_type": "execute_result"
    }
   ],
   "source": [
    "# Fill these NaN values for 'EL' with Greece\n",
    "euim22.loc[euim22['Receiving_CCode'] == 'EL', 'Receiving_Country'] = 'Greece'\n",
    "euim22.loc[euim22['Receiving_CCode'] == 'EU27_2020', 'Receiving_Country'] = 'EU27'\n",
    "\n",
    "euim22[(euim22['Receiving_CCode']=='EL') | (euim22['Receiving_CCode']=='EU27_2020')].head(5)\n"
   ]
  },
  {
   "cell_type": "code",
   "execution_count": 12,
   "metadata": {
    "colab": {
     "base_uri": "https://localhost:8080/",
     "height": 136
    },
    "executionInfo": {
     "elapsed": 242,
     "status": "ok",
     "timestamp": 1712951687095,
     "user": {
      "displayName": "Barış ALAN",
      "userId": "17887961324607480771"
     },
     "user_tz": 300
    },
    "id": "YdrGF_kKSpHt",
    "outputId": "7ba4b2ad-09e1-42e4-e62f-36e34eeb14d3"
   },
   "outputs": [
    {
     "data": {
      "text/plain": [
       "array(['Austria', 'Bulgaria', 'Czech Republic', 'Estonia', 'Finland',\n",
       "       'Croatia', 'Hungary', 'Iceland', 'Italy', 'Lithuania',\n",
       "       'Luxembourg', 'Latvia', 'Netherlands', 'Norway', 'Romania',\n",
       "       'Sweden', 'Slovenia', 'Slovakia', 'Spain', 'France', 'Belgium',\n",
       "       'Switzerland', 'Cyprus', 'Germany', 'Denmark', 'Greece', 'EU27',\n",
       "       'Ireland', 'Liechtenstein', 'Malta', 'Poland', 'Portugal'],\n",
       "      dtype=object)"
      ]
     },
     "metadata": {},
     "output_type": "display_data"
    }
   ],
   "source": [
    "# Are all receiving countries EU27? Iceland, Liechstein, Norway, Switzerland are not EU27.\n",
    "display(euim22['Receiving_Country'].unique())"
   ]
  },
  {
   "cell_type": "code",
   "execution_count": 13,
   "metadata": {
    "colab": {
     "base_uri": "https://localhost:8080/"
    },
    "executionInfo": {
     "elapsed": 149,
     "status": "ok",
     "timestamp": 1712951689315,
     "user": {
      "displayName": "Barış ALAN",
      "userId": "17887961324607480771"
     },
     "user_tz": 300
    },
    "id": "u78B8mnzSt-A",
    "outputId": "ddbde6a6-d3c8-49d5-87d9-7485f0ee9028"
   },
   "outputs": [
    {
     "name": "stdout",
     "output_type": "stream",
     "text": [
      "['Austria' 'Bulgaria' 'Czech Republic' 'Estonia' 'Finland' 'Croatia'\n",
      " 'Hungary' 'Italy' 'Lithuania' 'Luxembourg' 'Latvia' 'Netherlands'\n",
      " 'Romania' 'Sweden' 'Slovenia' 'Slovakia' 'Spain' 'France' 'Belgium'\n",
      " 'Cyprus' 'Germany' 'Denmark' 'Greece' 'EU27' 'Ireland' 'Malta' 'Poland'\n",
      " 'Portugal']\n"
     ]
    }
   ],
   "source": [
    "# Drop these 4 countries: Now we have 27 EU countries + 1 EU27 Aggregated observation\n",
    "countries_to_drop = ['Iceland', 'Liechtenstein', 'Norway', 'Switzerland']\n",
    "euim22 = euim22[~euim22['Receiving_Country'].isin(countries_to_drop)]\n",
    "eu27 = (euim22['Receiving_Country'].unique())\n",
    "print(eu27)"
   ]
  },
  {
   "cell_type": "code",
   "execution_count": 14,
   "metadata": {
    "colab": {
     "base_uri": "https://localhost:8080/"
    },
    "executionInfo": {
     "elapsed": 109,
     "status": "ok",
     "timestamp": 1712951691359,
     "user": {
      "displayName": "Barış ALAN",
      "userId": "17887961324607480771"
     },
     "user_tz": 300
    },
    "id": "HEDj24qf4SlW",
    "outputId": "3b96f321-43fb-4540-9361-db374bc7f827"
   },
   "outputs": [
    {
     "data": {
      "text/plain": [
       "20017"
      ]
     },
     "execution_count": 14,
     "metadata": {},
     "output_type": "execute_result"
    }
   ],
   "source": [
    "# Is there any NaN cells under Sending_Country column? --> 20017 observations are missing.\n",
    "euim22['Sending_Country'].isna().sum()"
   ]
  },
  {
   "cell_type": "code",
   "execution_count": 15,
   "metadata": {
    "colab": {
     "base_uri": "https://localhost:8080/"
    },
    "executionInfo": {
     "elapsed": 104,
     "status": "ok",
     "timestamp": 1712951692766,
     "user": {
      "displayName": "Barış ALAN",
      "userId": "17887961324607480771"
     },
     "user_tz": 300
    },
    "id": "4eUwy2Hv5VUU",
    "outputId": "65c1616c-778b-4e30-c0fe-41a37167d838"
   },
   "outputs": [
    {
     "data": {
      "text/plain": [
       "array(['AFR', 'AFR_C', 'AFR_E', 'AFR_N', 'AFR_S', 'AFR_W', 'AME', 'AME_C',\n",
       "       'AME_N', 'AME_S', 'ASI', 'ASI_C', 'ASI_E', 'ASI_S', 'ASI_S_E',\n",
       "       'ASI_W', 'AU_NZ', 'CC8_22_FOR', 'CRB', 'CZ_SK', 'EFTA_FOR', 'EL',\n",
       "       'EU27_2020_FOR', 'EUR', 'EX_SU', 'EX_YU', 'FOR_STLS', 'MEL', 'MIC',\n",
       "       'NAT', 'NEU27_2020_FOR', 'OCE', 'POL', 'RNC', 'RS_ME', 'STLS',\n",
       "       'TOTAL', 'UK', 'UNK', 'XK'], dtype=object)"
      ]
     },
     "execution_count": 15,
     "metadata": {},
     "output_type": "execute_result"
    }
   ],
   "source": [
    "# Let's check the unique values for these 20017 NaN observations.\n",
    "euim22[euim22['Sending_Country'].isna()]['Migrant_Citizenship'].unique()"
   ]
  },
  {
   "cell_type": "markdown",
   "metadata": {
    "id": "q0PKzqpu7H4r"
   },
   "source": [
    "\n",
    "---\n",
    "The NaN values under the \"Sending_Country\" column correspond to the codes displayed in the array above. Notably, these codes are not 2-digit but rather 3-digit.\n",
    "\n",
    "As per the Eurostat system, most of these codes represent continents such as 'AFR'=Africa, 'ASI_W'=West Asia, which aggregate the sum of countries within these continents. While the immigrant numbers for continents may introduce duplicates, they remain crucial for continental flow analysis.\n",
    "\n",
    "Additionally, specific codes represent regions such as 'AU_NZ': Australia-New Zealand, 'CC8_22_FOR':8 Candidate Countries, 'CZ_SK': Czechoslovakia, 'EFTA_FOR':European Free Trade Association Countries, 'EL':Greece, 'EU27_2020_FOR':EU27 Countries except reporting country,'EUR':Europe, 'EX_SU':Soviet Union, 'EX_Yu':Yugoslavia, 'FOR_STLS':Foreign country and stateless, 'NAT': Reporting Country, 'NEU27_2020_FOR':Non-EU27 countries nor reporting country, Oceania, 'RNC': Recognized Non-Citizens, 'RS_ME':Serbia and Montenegro, 'STLS': Stateless, 'TOTAL': Total, 'UNK': Unknown, 'XK':Kosovo.\n",
    "\n",
    "For analytical purposes, all continents and regional observations will be excluded from the primary analysis. A secondary continental dataset will be created, and these observations will be removed from the original \"euim22\" dataset to prevent duplication. However, 'STLS': Stateless, 'RNC': Recognized Non-Citizens, 'UNK': Unknown observations will be retained in the original dataset, as these observations are not represented under any country-observations and can be treated as distinct entities. 'EU27_2020_FOR', 'NEU27_2020_FOR', and 'TOTAL' will also kept in the dataset for calculations.\n",
    "\n",
    "---\n"
   ]
  },
  {
   "cell_type": "code",
   "execution_count": 16,
   "metadata": {
    "colab": {
     "base_uri": "https://localhost:8080/",
     "height": 34
    },
    "executionInfo": {
     "elapsed": 394,
     "status": "ok",
     "timestamp": 1712951695213,
     "user": {
      "displayName": "Barış ALAN",
      "userId": "17887961324607480771"
     },
     "user_tz": 300
    },
    "id": "Nkbp1v1f-QLn",
    "outputId": "1f124849-7280-4aa0-d894-3c72de3027c5"
   },
   "outputs": [
    {
     "data": {
      "text/plain": [
       "15129"
      ]
     },
     "metadata": {},
     "output_type": "display_data"
    }
   ],
   "source": [
    "# Replace the NaN Values under Migrant_Country for these ('STLS':Stateless, 'RNC':Recognized Non-Citizens and 'UNK':Unknown) under Migrant_Ciizenship\n",
    "# Therefore all non-NaN observatoins under Migrant_Country column are part of our analysis.\n",
    "euim22.loc[euim22[euim22['Migrant_Citizenship'] == 'STLS'].index, 'Sending_Country'] = 'Stateless'\n",
    "euim22.loc[euim22[euim22['Migrant_Citizenship'] == 'RNC'].index, 'Sending_Country'] = 'Recognized Non-Citizens'\n",
    "euim22.loc[euim22[euim22['Migrant_Citizenship'] == 'UNK'].index, 'Sending_Country'] = 'Unkown'\n",
    "euim22.loc[euim22[euim22['Migrant_Citizenship'] == 'EU27_2020_FOR'].index, 'Sending_Country'] = 'EU27'\n",
    "euim22.loc[euim22[euim22['Migrant_Citizenship'] == 'NEU27_2020_FOR'].index, 'Sending_Country'] = 'Non-EU27'\n",
    "euim22.loc[euim22[euim22['Migrant_Citizenship'] == 'TOTAL'].index, 'Sending_Country'] = 'Total'\n",
    "euim22.loc[euim22[euim22['Migrant_Citizenship'] == 'EL'].index, 'Sending_Country'] = 'Greece'\n",
    "\n",
    "\n",
    "# How many missing values now: 15129\n",
    "display(euim22['Sending_Country'].isna().sum())"
   ]
  },
  {
   "cell_type": "code",
   "execution_count": 17,
   "metadata": {
    "colab": {
     "base_uri": "https://localhost:8080/"
    },
    "executionInfo": {
     "elapsed": 144,
     "status": "ok",
     "timestamp": 1712951697383,
     "user": {
      "displayName": "Barış ALAN",
      "userId": "17887961324607480771"
     },
     "user_tz": 300
    },
    "id": "F4T7AxjqTS1c",
    "outputId": "c592a5af-669a-48be-9c29-6d7a324550b4"
   },
   "outputs": [
    {
     "data": {
      "text/plain": [
       "93370"
      ]
     },
     "execution_count": 17,
     "metadata": {},
     "output_type": "execute_result"
    }
   ],
   "source": [
    "# Create a 2nd dataset to keep continental observations.\n",
    "euim22_continents = euim22\n",
    "\n",
    "# Now we can delete the continent observations from the euim22 (which are NA observations under Sending_Country column)\n",
    "euim22 = euim22.dropna(subset=['Sending_Country'])\n",
    "\n",
    "# NEw dataframe is 93370 length.\n",
    "len(euim22)"
   ]
  },
  {
   "cell_type": "code",
   "execution_count": 18,
   "metadata": {
    "executionInfo": {
     "elapsed": 158,
     "status": "ok",
     "timestamp": 1712951700192,
     "user": {
      "displayName": "Barış ALAN",
      "userId": "17887961324607480771"
     },
     "user_tz": 300
    },
    "id": "vc1c4B8IRA1G"
   },
   "outputs": [],
   "source": [
    "#Some extra re-naming for easier coding\n",
    "euim22.loc[euim22[euim22['Age'] == 'TOTAL'].index, 'Age'] = 'T'\n",
    "euim22.loc[euim22[euim22['Migrant_Citizenship'] == 'TOTAL'].index, 'Migrant_Citizenship'] = 'Total'"
   ]
  },
  {
   "cell_type": "markdown",
   "metadata": {
    "id": "0hwRVqulHJt8"
   },
   "source": [
    "## Basic Summary Statistics"
   ]
  },
  {
   "cell_type": "markdown",
   "metadata": {
    "id": "oYp2sjqkG5U6"
   },
   "source": [
    "**How many immigrants did arrive in the EU countries in 2022 from non-European countries?**\n",
    "\n",
    "According to [Frontex (EU Border and Coast Guard AgencySecurity)](https://www.frontex.europa.eu/) and [Eurostat](https://ec.europa.eu/eurostat/statistics-explained/index.php?title=Migration_and_migrant_population_statistics) a total of 5.1 million immigrants entered to EU countries from non-EU countries, which is a 117% compared to 2021 (2.7 million).\n",
    "\n",
    "Our dataset (code below) reveals that the total number of arrivals to EU27 amounts to almost 7 million individuals. Among these, 4.8 million immigrants originated from non-EU27 countries, while 1.1 million arrived from other EU27 countries.\n",
    "\n",
    "Germany emerges as the top destination, with a total of 2.1 million immigrants arriving, followed by Spain (1.2 million), France (430K), and Italy (410K).\n"
   ]
  },
  {
   "cell_type": "code",
   "execution_count": 19,
   "metadata": {
    "colab": {
     "base_uri": "https://localhost:8080/",
     "height": 142
    },
    "executionInfo": {
     "elapsed": 291,
     "status": "ok",
     "timestamp": 1712951703570,
     "user": {
      "displayName": "Barış ALAN",
      "userId": "17887961324607480771"
     },
     "user_tz": 300
    },
    "id": "-pR0rcUaJnEt",
    "outputId": "aa25b722-ff2a-4e36-e2c8-35e4847a5408"
   },
   "outputs": [
    {
     "data": {
      "text/html": [
       "<div>\n",
       "<style scoped>\n",
       "    .dataframe tbody tr th:only-of-type {\n",
       "        vertical-align: middle;\n",
       "    }\n",
       "\n",
       "    .dataframe tbody tr th {\n",
       "        vertical-align: top;\n",
       "    }\n",
       "\n",
       "    .dataframe thead th {\n",
       "        text-align: right;\n",
       "    }\n",
       "</style>\n",
       "<table border=\"1\" class=\"dataframe\">\n",
       "  <thead>\n",
       "    <tr style=\"text-align: right;\">\n",
       "      <th></th>\n",
       "      <th>Migrant_Citizenship</th>\n",
       "      <th>Sending_Country</th>\n",
       "      <th>Age</th>\n",
       "      <th>Gender</th>\n",
       "      <th>Receiving_CCode</th>\n",
       "      <th>Receiving_Country</th>\n",
       "      <th>Year</th>\n",
       "      <th>Flow</th>\n",
       "    </tr>\n",
       "  </thead>\n",
       "  <tbody>\n",
       "    <tr>\n",
       "      <th>106898</th>\n",
       "      <td>Total</td>\n",
       "      <td>Total</td>\n",
       "      <td>T</td>\n",
       "      <td>T</td>\n",
       "      <td>EU27_2020</td>\n",
       "      <td>EU27</td>\n",
       "      <td>2022</td>\n",
       "      <td>6977742</td>\n",
       "    </tr>\n",
       "    <tr>\n",
       "      <th>78980</th>\n",
       "      <td>NEU27_2020_FOR</td>\n",
       "      <td>Non-EU27</td>\n",
       "      <td>T</td>\n",
       "      <td>T</td>\n",
       "      <td>EU27_2020</td>\n",
       "      <td>EU27</td>\n",
       "      <td>2022</td>\n",
       "      <td>4777475</td>\n",
       "    </tr>\n",
       "    <tr>\n",
       "      <th>38564</th>\n",
       "      <td>EU27_2020_FOR</td>\n",
       "      <td>EU27</td>\n",
       "      <td>T</td>\n",
       "      <td>T</td>\n",
       "      <td>EU27_2020</td>\n",
       "      <td>EU27</td>\n",
       "      <td>2022</td>\n",
       "      <td>1098032</td>\n",
       "    </tr>\n",
       "  </tbody>\n",
       "</table>\n",
       "</div>"
      ],
      "text/plain": [
       "       Migrant_Citizenship Sending_Country Age Gender Receiving_CCode  \\\n",
       "106898               Total           Total   T      T       EU27_2020   \n",
       "78980       NEU27_2020_FOR        Non-EU27   T      T       EU27_2020   \n",
       "38564        EU27_2020_FOR            EU27   T      T       EU27_2020   \n",
       "\n",
       "       Receiving_Country  Year     Flow  \n",
       "106898              EU27  2022  6977742  \n",
       "78980               EU27  2022  4777475  \n",
       "38564               EU27  2022  1098032  "
      ]
     },
     "execution_count": 19,
     "metadata": {},
     "output_type": "execute_result"
    }
   ],
   "source": [
    "# Total number of immigration to EU27 from and total number of immigration from non-EU27\n",
    "euim22[(euim22['Sending_Country'].apply(lambda x: x in ['Total', 'EU27', 'Non-EU27'])) & (euim22['Receiving_Country']=='EU27') & (euim22['Age']=='T') & (euim22['Gender']=='T')].sort_values(by='Flow', ascending=False)"
   ]
  },
  {
   "cell_type": "code",
   "execution_count": 20,
   "metadata": {
    "colab": {
     "base_uri": "https://localhost:8080/",
     "height": 204
    },
    "executionInfo": {
     "elapsed": 248,
     "status": "ok",
     "timestamp": 1712951706331,
     "user": {
      "displayName": "Barış ALAN",
      "userId": "17887961324607480771"
     },
     "user_tz": 300
    },
    "id": "-7EZMRNNW6Mh",
    "outputId": "86eab3c8-5306-4c7f-d538-5fe251bad520"
   },
   "outputs": [
    {
     "data": {
      "text/html": [
       "<div>\n",
       "<style scoped>\n",
       "    .dataframe tbody tr th:only-of-type {\n",
       "        vertical-align: middle;\n",
       "    }\n",
       "\n",
       "    .dataframe tbody tr th {\n",
       "        vertical-align: top;\n",
       "    }\n",
       "\n",
       "    .dataframe thead th {\n",
       "        text-align: right;\n",
       "    }\n",
       "</style>\n",
       "<table border=\"1\" class=\"dataframe\">\n",
       "  <thead>\n",
       "    <tr style=\"text-align: right;\">\n",
       "      <th></th>\n",
       "      <th>Migrant_Citizenship</th>\n",
       "      <th>Sending_Country</th>\n",
       "      <th>Age</th>\n",
       "      <th>Gender</th>\n",
       "      <th>Receiving_CCode</th>\n",
       "      <th>Receiving_Country</th>\n",
       "      <th>Year</th>\n",
       "      <th>Flow</th>\n",
       "    </tr>\n",
       "  </thead>\n",
       "  <tbody>\n",
       "    <tr>\n",
       "      <th>106898</th>\n",
       "      <td>Total</td>\n",
       "      <td>Total</td>\n",
       "      <td>T</td>\n",
       "      <td>T</td>\n",
       "      <td>EU27_2020</td>\n",
       "      <td>EU27</td>\n",
       "      <td>2022</td>\n",
       "      <td>6977742</td>\n",
       "    </tr>\n",
       "    <tr>\n",
       "      <th>106893</th>\n",
       "      <td>Total</td>\n",
       "      <td>Total</td>\n",
       "      <td>T</td>\n",
       "      <td>T</td>\n",
       "      <td>DE</td>\n",
       "      <td>Germany</td>\n",
       "      <td>2022</td>\n",
       "      <td>2071690</td>\n",
       "    </tr>\n",
       "    <tr>\n",
       "      <th>106897</th>\n",
       "      <td>Total</td>\n",
       "      <td>Total</td>\n",
       "      <td>T</td>\n",
       "      <td>T</td>\n",
       "      <td>ES</td>\n",
       "      <td>Spain</td>\n",
       "      <td>2022</td>\n",
       "      <td>1258894</td>\n",
       "    </tr>\n",
       "    <tr>\n",
       "      <th>106900</th>\n",
       "      <td>Total</td>\n",
       "      <td>Total</td>\n",
       "      <td>T</td>\n",
       "      <td>T</td>\n",
       "      <td>FR</td>\n",
       "      <td>France</td>\n",
       "      <td>2022</td>\n",
       "      <td>431017</td>\n",
       "    </tr>\n",
       "    <tr>\n",
       "      <th>106905</th>\n",
       "      <td>Total</td>\n",
       "      <td>Total</td>\n",
       "      <td>T</td>\n",
       "      <td>T</td>\n",
       "      <td>IT</td>\n",
       "      <td>Italy</td>\n",
       "      <td>2022</td>\n",
       "      <td>410985</td>\n",
       "    </tr>\n",
       "  </tbody>\n",
       "</table>\n",
       "</div>"
      ],
      "text/plain": [
       "       Migrant_Citizenship Sending_Country Age Gender Receiving_CCode  \\\n",
       "106898               Total           Total   T      T       EU27_2020   \n",
       "106893               Total           Total   T      T              DE   \n",
       "106897               Total           Total   T      T              ES   \n",
       "106900               Total           Total   T      T              FR   \n",
       "106905               Total           Total   T      T              IT   \n",
       "\n",
       "       Receiving_Country  Year     Flow  \n",
       "106898              EU27  2022  6977742  \n",
       "106893           Germany  2022  2071690  \n",
       "106897             Spain  2022  1258894  \n",
       "106900            France  2022   431017  \n",
       "106905             Italy  2022   410985  "
      ]
     },
     "execution_count": 20,
     "metadata": {},
     "output_type": "execute_result"
    }
   ],
   "source": [
    "# Total number of arrivals by reciving EU27 countries\n",
    "euim22[(euim22['Sending_Country']=='Total') & (euim22['Age']=='T') & (euim22['Gender']=='T')].sort_values(by='Flow', ascending=False).head(5)"
   ]
  },
  {
   "cell_type": "code",
   "execution_count": 21,
   "metadata": {
    "colab": {
     "base_uri": "https://localhost:8080/",
     "height": 204
    },
    "executionInfo": {
     "elapsed": 242,
     "status": "ok",
     "timestamp": 1712951709960,
     "user": {
      "displayName": "Barış ALAN",
      "userId": "17887961324607480771"
     },
     "user_tz": 300
    },
    "id": "bdyU9OrvXlTF",
    "outputId": "e0664a0a-ed55-4865-858c-1f3c9cc937d5"
   },
   "outputs": [
    {
     "data": {
      "text/html": [
       "<div>\n",
       "<style scoped>\n",
       "    .dataframe tbody tr th:only-of-type {\n",
       "        vertical-align: middle;\n",
       "    }\n",
       "\n",
       "    .dataframe tbody tr th {\n",
       "        vertical-align: top;\n",
       "    }\n",
       "\n",
       "    .dataframe thead th {\n",
       "        text-align: right;\n",
       "    }\n",
       "</style>\n",
       "<table border=\"1\" class=\"dataframe\">\n",
       "  <thead>\n",
       "    <tr style=\"text-align: right;\">\n",
       "      <th></th>\n",
       "      <th>Migrant_Citizenship</th>\n",
       "      <th>Sending_Country</th>\n",
       "      <th>Age</th>\n",
       "      <th>Gender</th>\n",
       "      <th>Receiving_CCode</th>\n",
       "      <th>Receiving_Country</th>\n",
       "      <th>Year</th>\n",
       "      <th>Flow</th>\n",
       "    </tr>\n",
       "  </thead>\n",
       "  <tbody>\n",
       "    <tr>\n",
       "      <th>78980</th>\n",
       "      <td>NEU27_2020_FOR</td>\n",
       "      <td>Non-EU27</td>\n",
       "      <td>T</td>\n",
       "      <td>T</td>\n",
       "      <td>EU27_2020</td>\n",
       "      <td>EU27</td>\n",
       "      <td>2022</td>\n",
       "      <td>4777475</td>\n",
       "    </tr>\n",
       "    <tr>\n",
       "      <th>78975</th>\n",
       "      <td>NEU27_2020_FOR</td>\n",
       "      <td>Non-EU27</td>\n",
       "      <td>T</td>\n",
       "      <td>T</td>\n",
       "      <td>DE</td>\n",
       "      <td>Germany</td>\n",
       "      <td>2022</td>\n",
       "      <td>1630619</td>\n",
       "    </tr>\n",
       "    <tr>\n",
       "      <th>78979</th>\n",
       "      <td>NEU27_2020_FOR</td>\n",
       "      <td>Non-EU27</td>\n",
       "      <td>T</td>\n",
       "      <td>T</td>\n",
       "      <td>ES</td>\n",
       "      <td>Spain</td>\n",
       "      <td>2022</td>\n",
       "      <td>925587</td>\n",
       "    </tr>\n",
       "    <tr>\n",
       "      <th>78974</th>\n",
       "      <td>NEU27_2020_FOR</td>\n",
       "      <td>Non-EU27</td>\n",
       "      <td>T</td>\n",
       "      <td>T</td>\n",
       "      <td>CZ</td>\n",
       "      <td>Czech Republic</td>\n",
       "      <td>2022</td>\n",
       "      <td>330997</td>\n",
       "    </tr>\n",
       "    <tr>\n",
       "      <th>78987</th>\n",
       "      <td>NEU27_2020_FOR</td>\n",
       "      <td>Non-EU27</td>\n",
       "      <td>T</td>\n",
       "      <td>T</td>\n",
       "      <td>IT</td>\n",
       "      <td>Italy</td>\n",
       "      <td>2022</td>\n",
       "      <td>287010</td>\n",
       "    </tr>\n",
       "  </tbody>\n",
       "</table>\n",
       "</div>"
      ],
      "text/plain": [
       "      Migrant_Citizenship Sending_Country Age Gender Receiving_CCode  \\\n",
       "78980      NEU27_2020_FOR        Non-EU27   T      T       EU27_2020   \n",
       "78975      NEU27_2020_FOR        Non-EU27   T      T              DE   \n",
       "78979      NEU27_2020_FOR        Non-EU27   T      T              ES   \n",
       "78974      NEU27_2020_FOR        Non-EU27   T      T              CZ   \n",
       "78987      NEU27_2020_FOR        Non-EU27   T      T              IT   \n",
       "\n",
       "      Receiving_Country  Year     Flow  \n",
       "78980              EU27  2022  4777475  \n",
       "78975           Germany  2022  1630619  \n",
       "78979             Spain  2022   925587  \n",
       "78974    Czech Republic  2022   330997  \n",
       "78987             Italy  2022   287010  "
      ]
     },
     "execution_count": 21,
     "metadata": {},
     "output_type": "execute_result"
    }
   ],
   "source": [
    "# Total number of arrivals from non-EU27 countries\n",
    "euim22[(euim22['Sending_Country']=='Non-EU27') & (euim22['Age']=='T') & (euim22['Gender']=='T')].sort_values(by='Flow', ascending=False).sort_values(by='Flow', ascending=False).head(5)"
   ]
  },
  {
   "cell_type": "code",
   "execution_count": 22,
   "metadata": {
    "colab": {
     "base_uri": "https://localhost:8080/"
    },
    "executionInfo": {
     "elapsed": 201,
     "status": "ok",
     "timestamp": 1712951712951,
     "user": {
      "displayName": "Barış ALAN",
      "userId": "17887961324607480771"
     },
     "user_tz": 300
    },
    "id": "UHsaBcY-avw9",
    "outputId": "9e302f24-4c11-41e0-bf0a-5260bd7918f4"
   },
   "outputs": [
    {
     "data": {
      "text/plain": [
       "90958"
      ]
     },
     "execution_count": 22,
     "metadata": {},
     "output_type": "execute_result"
    }
   ],
   "source": [
    "# Create a new dataset by dropping the 'Total', 'EU27', and 'Non-EU27' observations under 'Sending_Country', and 'EU27' under 'Receiving'\n",
    "# Total number of observations decreased to 90958.\n",
    "immig22 = euim22[~euim22['Sending_Country'].isin(['Total', 'EU27', 'Non-EU27'])]\n",
    "len(immig22)"
   ]
  },
  {
   "cell_type": "code",
   "execution_count": 23,
   "metadata": {
    "colab": {
     "base_uri": "https://localhost:8080/"
    },
    "executionInfo": {
     "elapsed": 121,
     "status": "ok",
     "timestamp": 1712951716139,
     "user": {
      "displayName": "Barış ALAN",
      "userId": "17887961324607480771"
     },
     "user_tz": 300
    },
    "id": "7ZCw7jwpcBHV",
    "outputId": "751824c4-ddb4-49f4-b98b-a9cc0e6592cf"
   },
   "outputs": [
    {
     "data": {
      "text/plain": [
       "90952"
      ]
     },
     "execution_count": 23,
     "metadata": {},
     "output_type": "execute_result"
    }
   ],
   "source": [
    "# Drop 'EU27' under 'Receiving_Country' \n",
    "# Total number of observations decreased to 90952.\n",
    "immig22 = immig22[~immig22['Receiving_Country'].isin(['EU27'])]\n",
    "len(immig22)"
   ]
  },
  {
   "cell_type": "markdown",
   "metadata": {
    "id": "dlBdQdfDYBsI"
   },
   "source": [
    "**Crucial Note on Migration Dataset**\n",
    "\n",
    "The Eurostat immigration dataset offers observations that provide the total number of arrivals (including 'Total' for total arrivals, 'EU27' for total arrivals within the EU27, and 'Non-EU27' for total arrivals from non-EU27 countries)\\ enabling a comprehensive view of aggregate numbers. According to these observations the total arrivals to EU27 countries amount to 7 million, with 4.8 million originating from non-EU27 countries.\n",
    "\n",
    "However, upon removing these 'Total' observations to eliminate duplicates and examining the total number of arrivals by filtering the receiving country, we find a significantly lower figure of 3.4 million. Of this immigration flow, 1.1 million arrivals are from other EU27 countries, while 2.2 million are from non-EU27 countries.\n",
    "\n",
    "These numbers starkly contrast with aggregate observations from Frontex and Eurostat, primarily due to the exclusion of certain Sending_Country observations in the dataset. For instance, while aggregate data suggests Germany received 2.1 million immigrants, of which 1.6 million were from non-EU countries, a closer examination of arrivals to Germany by filtering the Sending_Country reveals only 6226 migrants, recorded as Stateless or Unknown, arrived in Germany.\n",
    "\n",
    "It is evident that our dataset contains missing values under the Sending_Country column, as exemplified by the absence of Sending_Country information for arrivals in Germany. Consequently, this dataset is limited in its ability to analyze migration flows comprehensively, particularly those from non-EU27 countries to EU27 countries.\n",
    "\n",
    "The datasets by various organizations and projects focusing on international migration, including the International Migration Organization, Global Migration Data Portal, UN Global Migration Database, OECD International Migration Database, and World Bank Global Bilateral Migration, were checked. However, none of these sources provide a complete dataset of bilateral migration flows. At present, the Eurostat dataset stands as the most comprehensive option. Efforts are underway to obtain a full dataset from Eurostat officials, but until then, this project will utilize the available data."
   ]
  },
  {
   "cell_type": "code",
   "execution_count": 24,
   "metadata": {
    "colab": {
     "base_uri": "https://localhost:8080/"
    },
    "executionInfo": {
     "elapsed": 156,
     "status": "ok",
     "timestamp": 1712951720318,
     "user": {
      "displayName": "Barış ALAN",
      "userId": "17887961324607480771"
     },
     "user_tz": 300
    },
    "id": "aPQLniC2asnl",
    "outputId": "9532e00d-f11b-49f9-8df6-4eee29572c9d"
   },
   "outputs": [
    {
     "data": {
      "text/plain": [
       "3406513"
      ]
     },
     "execution_count": 24,
     "metadata": {},
     "output_type": "execute_result"
    }
   ],
   "source": [
    "# What is total number of arrivals? 3.4 million.\n",
    "immig22[(immig22['Age']=='T') & (immig22['Gender']=='T')]['Flow'].sum()"
   ]
  },
  {
   "cell_type": "code",
   "execution_count": 25,
   "metadata": {
    "colab": {
     "base_uri": "https://localhost:8080/"
    },
    "executionInfo": {
     "elapsed": 170,
     "status": "ok",
     "timestamp": 1712951722618,
     "user": {
      "displayName": "Barış ALAN",
      "userId": "17887961324607480771"
     },
     "user_tz": 300
    },
    "id": "RVt8SOh9eX85",
    "outputId": "c224b9d7-3a68-42c3-982b-feeab473b351"
   },
   "outputs": [
    {
     "data": {
      "text/plain": [
       "1171307"
      ]
     },
     "execution_count": 25,
     "metadata": {},
     "output_type": "execute_result"
    }
   ],
   "source": [
    "# Total number of arrivals from EU27 countries: 1.1 million\n",
    "immig22[(immig22['Sending_Country'].isin(eu27)) & (immig22['Age']=='T') & (immig22['Gender']=='T')]['Flow'].sum()"
   ]
  },
  {
   "cell_type": "code",
   "execution_count": 26,
   "metadata": {
    "colab": {
     "base_uri": "https://localhost:8080/"
    },
    "executionInfo": {
     "elapsed": 261,
     "status": "ok",
     "timestamp": 1712951724216,
     "user": {
      "displayName": "Barış ALAN",
      "userId": "17887961324607480771"
     },
     "user_tz": 300
    },
    "id": "E_DcoBfIfSs5",
    "outputId": "fc64b4ef-b372-45b3-e0f4-cde081ba7ba0"
   },
   "outputs": [
    {
     "data": {
      "text/plain": [
       "2235206"
      ]
     },
     "execution_count": 26,
     "metadata": {},
     "output_type": "execute_result"
    }
   ],
   "source": [
    "# Total number of arrivals from non-EU27 countries: 2.2 million.\n",
    "immig_noneu27 = immig22[~immig22['Sending_Country'].isin(eu27)]\n",
    "immig_noneu27[(immig_noneu27['Age']=='T') & (immig_noneu27['Gender']=='T')]['Flow'].sum()"
   ]
  },
  {
   "cell_type": "code",
   "execution_count": 27,
   "metadata": {
    "colab": {
     "base_uri": "https://localhost:8080/",
     "height": 68
    },
    "executionInfo": {
     "elapsed": 271,
     "status": "ok",
     "timestamp": 1712951726200,
     "user": {
      "displayName": "Barış ALAN",
      "userId": "17887961324607480771"
     },
     "user_tz": 300
    },
    "id": "9CBKL_YxhSFX",
    "outputId": "cbd3d23a-0779-4e16-d4b4-a190c576cc34"
   },
   "outputs": [
    {
     "data": {
      "text/plain": [
       "array(['Stateless', 'Unkown'], dtype=object)"
      ]
     },
     "metadata": {},
     "output_type": "display_data"
    }
   ],
   "source": [
    "# Total number of arrivals in Germany from non-EU27 countries: 6226\n",
    "immig_noneu27[(immig_noneu27['Receiving_Country']=='Germany') & (immig_noneu27['Age']=='T') & (immig_noneu27['Gender']=='T')]['Flow'].sum()\n",
    "display(immig_noneu27[immig_noneu27['Receiving_Country']=='Germany']['Sending_Country'].unique())"
   ]
  },
  {
   "cell_type": "markdown",
   "metadata": {
    "id": "0-2_wMFuJFxO"
   },
   "source": [
    "**How does the gender distribution among immigrants break down?**\n",
    "\n",
    "It appears that there were more men than women arriving in the EU from non-EU27 countries in 2022. A significant contributing factor to this trend is the presence of irregular migrants, who enter the EU illegally by crossing the Mediterranean and Aegean seas with the assistance of smugglers. Due to the perilous nature of these routes and the life-threatening aspects of the journey, men often aim to arrive first to secure asylum before bringing their families. Additionally, in regions such as the Middle East, Africa, and South Asia, young unmarried men are more likely to immigrate to Europe compared to young unmarried women.\n",
    "\n",
    "The gender breakdown holds importance for various reasons. Some groups advocate for the inclusion of women, children, and the elderly while excluding men, while others argue that there is a labor shortage in the European labor market, making adult men crucial in filling this gap. More conservative groups express concerns about the potential impact of adult male immigrants on distorting European society. Therefore, understanding the gender and age demographics is crucial to assessing the validity of such perceived threats."
   ]
  },
  {
   "cell_type": "code",
   "execution_count": 28,
   "metadata": {
    "colab": {
     "base_uri": "https://localhost:8080/",
     "height": 692
    },
    "executionInfo": {
     "elapsed": 972,
     "status": "ok",
     "timestamp": 1712949221673,
     "user": {
      "displayName": "Barış ALAN",
      "userId": "17887961324607480771"
     },
     "user_tz": 300
    },
    "id": "53ysUlyfJEy7",
    "outputId": "82ce57ae-a8a9-4611-ac66-186a30e2ac0d"
   },
   "outputs": [
    {
     "name": "stdout",
     "output_type": "stream",
     "text": [
      "Gender\n",
      "F    1142144\n",
      "M    1092917\n",
      "T    2235206\n",
      "Name: Flow, dtype: int64\n"
     ]
    },
    {
     "data": {
      "image/png": "[encoded data removed]",
      "text/plain": [
       "<Figure size 800x600 with 1 Axes>"
      ]
     },
     "metadata": {},
     "output_type": "display_data"
    }
   ],
   "source": [
    "# Group by 'Gender' column and sum 'Flow' column\n",
    "immig_gender = immig_noneu27[(immig_noneu27['Age'] == 'T')].groupby('Gender')['Flow'].sum()\n",
    "print(immig_gender)\n",
    "\n",
    "plt.figure(figsize=(8, 6))\n",
    "\n",
    "plot_gender = immig_gender.plot(kind='bar', color=['pink','blue', 'green'])\n",
    "plt.xlabel('Gender')\n",
    "plt.ylabel('Total Arrivals')\n",
    "plt.title('Total Migration Flow from Non-EU27 Countries Based on Gender')\n",
    "plt.xticks(rotation=0)\n",
    "plt.grid(axis='y', linestyle='--', alpha=0.7)\n",
    "plt.tight_layout()\n",
    "plt.show()\n"
   ]
  },
  {
   "cell_type": "markdown",
   "metadata": {
    "id": "5ps42qUnL5eO"
   },
   "source": [
    "**What about age demographics?**\n",
    "\n",
    "Approximately 52% (around 1.1 million) of arriving immigrants are 34 years old or younger, with 323K falling within the age range of 15 years or younger. From the perspective of certain groups within the EU, these numbers may be perceived as a potential threat to European society. An additional observation is that as age increases, the number of immigrants arriving decreases, as depicted in the accompanying plot.\n",
    "\n",
    "However, from a humanitarian standpoint, these figures underscore the desperation of immigrants who, in the face of civil war, economic hardships, or climate-related challenges, flee their home countries with their children, aspiring to reach Europe. Those in the age group of 20-29 are often individuals who have completed their education or recently started a family but struggle to make a living in their home countries. Frustration with poverty, corruption, and economic challenges compels them to seek better living conditions in Europe.\n",
    "\n",
    "As future milestones incorporate additional datasets into the analysis, a clearer picture will emerge regarding the underlying reasons behind these migration patterns."
   ]
  },
  {
   "cell_type": "code",
   "execution_count": 29,
   "metadata": {
    "colab": {
     "base_uri": "https://localhost:8080/",
     "height": 782
    },
    "executionInfo": {
     "elapsed": 895,
     "status": "ok",
     "timestamp": 1712949227097,
     "user": {
      "displayName": "Barış ALAN",
      "userId": "17887961324607480771"
     },
     "user_tz": 300
    },
    "id": "81s1RRRsMU5H",
    "outputId": "3a60d7aa-a0c6-413b-81f9-b8c3515a5231"
   },
   "outputs": [
    {
     "data": {
      "text/plain": [
       "Age\n",
       "TOTAL          NaN\n",
       "Y_LT15    323229.0\n",
       "Y15-19    145583.0\n",
       "Y20-24    199836.0\n",
       "Y25-29    258376.0\n",
       "Y30-34    247847.0\n",
       "Y35-39    212671.0\n",
       "Y40-44    162976.0\n",
       "Y45-49    117268.0\n",
       "Y50-54     83435.0\n",
       "Y55-59     56993.0\n",
       "Y60-64     45407.0\n",
       "Y_GE65     67215.0\n",
       "Name: Flow, dtype: float64"
      ]
     },
     "metadata": {},
     "output_type": "display_data"
    },
    {
     "data": {
      "text/plain": [
       "Text(0.5, 1.0, 'Total Flow Based on Age Breaks')"
      ]
     },
     "execution_count": 29,
     "metadata": {},
     "output_type": "execute_result"
    },
    {
     "data": {
      "image/png": "[encoded data removed]",
      "text/plain": [
       "<Figure size 640x480 with 1 Axes>"
      ]
     },
     "metadata": {},
     "output_type": "display_data"
    }
   ],
   "source": [
    "# Take the total ('T') from Gender column, and groupby 'Age'.\n",
    "# Y_LT15: those below 15, and Y_GE65: those above 65. Other age breaks already make sense.\n",
    "# reindex the age brackets in order\n",
    "immig_age = immig_noneu27[(immig_noneu27['Gender'] == 'T')].groupby('Age')['Flow'].sum()\n",
    "\n",
    "# Reindex the age breaks from smallest to biggest\n",
    "display(immig_age.reindex(['TOTAL','Y_LT15', 'Y15-19', 'Y20-24', 'Y25-29', 'Y30-34', 'Y35-39', 'Y40-44', 'Y45-49', 'Y50-54', 'Y55-59', 'Y60-64', 'Y_GE65']))\n",
    "\n",
    "#Plot\n",
    "plot_age = immig_age.reindex(['Y_LT15', 'Y15-19', 'Y20-24', 'Y25-29', 'Y30-34', 'Y35-39', 'Y40-44', 'Y45-49', 'Y50-54', 'Y55-59', 'Y60-64', 'Y_GE65']).plot(kind='bar', color='skyblue', edgecolor='black')\n",
    "plt.xlabel('Age')\n",
    "plt.ylabel('Total Flow')\n",
    "plt.title('Total Flow Based on Age Breaks')"
   ]
  },
  {
   "cell_type": "markdown",
   "metadata": {
    "id": "yJrTANeWT01s"
   },
   "source": [
    "**Which EU countries receive the highest number of immigrants?**\n",
    "\n",
    "_Before going into the details it is worth reminding the limited nature of this dataset. As clarified above, Germany received a total number of 1.6 immigrants from non-EU27 countries, yet this dataset only represent 6226 immigrants._\n",
    "\n",
    "Initially, both the plot and the list below indicate that Spain and Italy have received more than half of the total immigrants. This observation underscores that Africa and the Middle East remain the primary regions of origin for migrants.\n",
    "\n",
    "Additionally, the substantial influx of immigrants into Central and Eastern EU countries is noteworthy, signifying the impact of the Invasion of Ukraine. This surge in migration patterns in these regions is a notable consequence of the geopolitical events in Ukraine."
   ]
  },
  {
   "cell_type": "code",
   "execution_count": 30,
   "metadata": {
    "colab": {
     "base_uri": "https://localhost:8080/",
     "height": 1000
    },
    "executionInfo": {
     "elapsed": 930,
     "status": "ok",
     "timestamp": 1712949231481,
     "user": {
      "displayName": "Barış ALAN",
      "userId": "17887961324607480771"
     },
     "user_tz": 300
    },
    "id": "NfDv1ogUT-S5",
    "outputId": "ce3d559a-4072-4c2d-c908-9887664f8801"
   },
   "outputs": [
    {
     "name": "stdout",
     "output_type": "stream",
     "text": [
      "Receiving_Country\n",
      "Spain             857915\n",
      "Czech Republic    330362\n",
      "Italy             283740\n",
      "Netherlands       189198\n",
      "Austria           115919\n",
      "Romania            91019\n",
      "Lithuania          66139\n",
      "Sweden             54356\n",
      "Hungary            43601\n",
      "Croatia            40073\n",
      "Estonia            38898\n",
      "Finland            33014\n",
      "Latvia             29800\n",
      "Slovenia           24269\n",
      "Luxembourg         14555\n",
      "Bulgaria           13885\n",
      "Germany             6226\n",
      "Belgium              922\n",
      "Slovakia             561\n",
      "Denmark              380\n",
      "Ireland              297\n",
      "Poland                77\n",
      "France                 0\n",
      "Malta                  0\n",
      "Cyprus                 0\n",
      "Portugal               0\n",
      "Greece                 0\n",
      "Name: Flow, dtype: int64\n"
     ]
    },
    {
     "data": {
      "text/plain": [
       "Text(0.5, 1.0, 'Total Flow Based on Receiving Country')"
      ]
     },
     "execution_count": 30,
     "metadata": {},
     "output_type": "execute_result"
    },
    {
     "data": {
      "image/png": "[encoded data removed]",
      "text/plain": [
       "<Figure size 640x480 with 1 Axes>"
      ]
     },
     "metadata": {},
     "output_type": "display_data"
    }
   ],
   "source": [
    "# Total immigrants by receiving country\n",
    "total_by_receiving = immig_noneu27[(immig_noneu27['Age'] == 'T') & (immig_noneu27['Gender'] == 'T')].groupby('Receiving_Country')['Flow'].sum()\n",
    "\n",
    "# Sort them\n",
    "total_by_receiving = total_by_receiving.sort_values(ascending=False)\n",
    "\n",
    "print(total_by_receiving)\n",
    "\n",
    "#Plot\n",
    "total_by_receiving.plot(kind='bar', color='skyblue', edgecolor='black')\n",
    "plt.xlabel('Receiving Country')\n",
    "plt.ylabel('Total Flow')\n",
    "plt.title('Total Flow Based on Receiving Country')"
   ]
  },
  {
   "cell_type": "markdown",
   "metadata": {
    "id": "8s9c9A39VlCS"
   },
   "source": [
    "**Which country has sent the highest number of immigrants to EU countries?**\n",
    "\n",
    "Concurrently with the aforementioned analysis, the table and plot below reveal that Ukraine, Latin American Countries, and North African Countries are the primary sources of immigration. It is not unexpected to find China and India on these lists, given that they are the two most populous countries globally."
   ]
  },
  {
   "cell_type": "code",
   "execution_count": 31,
   "metadata": {
    "colab": {
     "base_uri": "https://localhost:8080/",
     "height": 910
    },
    "executionInfo": {
     "elapsed": 652,
     "status": "ok",
     "timestamp": 1712953697681,
     "user": {
      "displayName": "Barış ALAN",
      "userId": "17887961324607480771"
     },
     "user_tz": 300
    },
    "id": "pH3U4oS6V3ET",
    "outputId": "fc3f08e5-ce6c-4779-d9db-a8be09a8711e"
   },
   "outputs": [
    {
     "data": {
      "text/plain": [
       "Sending_Country\n",
       "Ukraine                              764356\n",
       "Colombia                             176955\n",
       "Morocco                              138886\n",
       "Venezuela, Bolivarian Republic of     85238\n",
       "Peru                                  74722\n",
       "India                                 59999\n",
       "Russian Federation                    52933\n",
       "Argentina                             49531\n",
       "Pakistan                              42479\n",
       "Syrian Arab Republic                  42466\n",
       "Name: Flow, dtype: int64"
      ]
     },
     "metadata": {},
     "output_type": "display_data"
    },
    {
     "data": {
      "text/plain": [
       "Text(0.5, 1.0, 'Total Flow Based on Sending Country')"
      ]
     },
     "execution_count": 31,
     "metadata": {},
     "output_type": "execute_result"
    },
    {
     "data": {
      "image/png": "[encoded data removed]",
      "text/plain": [
       "<Figure size 640x480 with 1 Axes>"
      ]
     },
     "metadata": {},
     "output_type": "display_data"
    }
   ],
   "source": [
    "# Total number of immigrants by sending country\n",
    "total_by_sending = immig_noneu27[(immig_noneu27['Age'] == 'T') & (immig_noneu27['Gender'] == 'T')].groupby('Sending_Country')['Flow'].sum()\n",
    "total_by_sending = total_by_sending.sort_values(ascending=False)\n",
    "display(total_by_sending.head(10))\n",
    "\n",
    "# Plot the immigrants by top- 10 sending country\n",
    "total_by_sending.head(10).plot(kind='bar', color='skyblue', edgecolor='black')\n",
    "plt.xlabel('Sending Country')\n",
    "plt.ylabel('Total Flow')\n",
    "plt.title('Total Flow Based on Sending Country')\n"
   ]
  },
  {
   "cell_type": "markdown",
   "metadata": {
    "id": "BxHAWrWSqexZ"
   },
   "source": [
    "## Statistical Modelling\n",
    "\n",
    "As clarified above, a second goal of this project is to statistically analyze the effects of various push factors, such as economic, political, climate, and conflict, and gender-related indicators."
   ]
  },
  {
   "cell_type": "markdown",
   "metadata": {
    "id": "fotq83vx6sdI"
   },
   "source": [
    "#### Merge with Economic Indicator1: GDP/PC"
   ]
  },
  {
   "cell_type": "markdown",
   "metadata": {},
   "source": [
    "GDP/PC (GDP Per Capita) Dataset has country names and 3 digit country codes. In order to merge this dataset with immigration dataset, we need 3 digit countries. Therefore, initialy the UN dataset will be used to bring the 3digit country codes for Sending_Countries."
   ]
  },
  {
   "cell_type": "code",
   "execution_count": 32,
   "metadata": {
    "colab": {
     "base_uri": "https://localhost:8080/",
     "height": 419
    },
    "executionInfo": {
     "elapsed": 522,
     "status": "ok",
     "timestamp": 1712951742268,
     "user": {
      "displayName": "Barış ALAN",
      "userId": "17887961324607480771"
     },
     "user_tz": 300
    },
    "id": "QOVwZPIgxkVl",
    "outputId": "164b025b-ff07-4706-f6f1-59fe8c335a7e"
   },
   "outputs": [
    {
     "data": {
      "text/html": [
       "<div>\n",
       "<style scoped>\n",
       "    .dataframe tbody tr th:only-of-type {\n",
       "        vertical-align: middle;\n",
       "    }\n",
       "\n",
       "    .dataframe tbody tr th {\n",
       "        vertical-align: top;\n",
       "    }\n",
       "\n",
       "    .dataframe thead th {\n",
       "        text-align: right;\n",
       "    }\n",
       "</style>\n",
       "<table border=\"1\" class=\"dataframe\">\n",
       "  <thead>\n",
       "    <tr style=\"text-align: right;\">\n",
       "      <th></th>\n",
       "      <th>Migrant_Citizenship</th>\n",
       "      <th>Sending_Country</th>\n",
       "      <th>Age</th>\n",
       "      <th>Gender</th>\n",
       "      <th>Receiving_CCode</th>\n",
       "      <th>Receiving_Country</th>\n",
       "      <th>Year</th>\n",
       "      <th>Flow</th>\n",
       "      <th>iso3</th>\n",
       "    </tr>\n",
       "  </thead>\n",
       "  <tbody>\n",
       "    <tr>\n",
       "      <th>0</th>\n",
       "      <td>AD</td>\n",
       "      <td>Andorra</td>\n",
       "      <td>T</td>\n",
       "      <td>F</td>\n",
       "      <td>AT</td>\n",
       "      <td>Austria</td>\n",
       "      <td>2022</td>\n",
       "      <td>0</td>\n",
       "      <td>AND</td>\n",
       "    </tr>\n",
       "    <tr>\n",
       "      <th>1</th>\n",
       "      <td>AD</td>\n",
       "      <td>Andorra</td>\n",
       "      <td>T</td>\n",
       "      <td>F</td>\n",
       "      <td>BG</td>\n",
       "      <td>Bulgaria</td>\n",
       "      <td>2022</td>\n",
       "      <td>0</td>\n",
       "      <td>AND</td>\n",
       "    </tr>\n",
       "    <tr>\n",
       "      <th>2</th>\n",
       "      <td>AD</td>\n",
       "      <td>Andorra</td>\n",
       "      <td>T</td>\n",
       "      <td>F</td>\n",
       "      <td>CZ</td>\n",
       "      <td>Czech Republic</td>\n",
       "      <td>2022</td>\n",
       "      <td>0</td>\n",
       "      <td>AND</td>\n",
       "    </tr>\n",
       "    <tr>\n",
       "      <th>3</th>\n",
       "      <td>AD</td>\n",
       "      <td>Andorra</td>\n",
       "      <td>T</td>\n",
       "      <td>F</td>\n",
       "      <td>EE</td>\n",
       "      <td>Estonia</td>\n",
       "      <td>2022</td>\n",
       "      <td>0</td>\n",
       "      <td>AND</td>\n",
       "    </tr>\n",
       "    <tr>\n",
       "      <th>4</th>\n",
       "      <td>AD</td>\n",
       "      <td>Andorra</td>\n",
       "      <td>T</td>\n",
       "      <td>F</td>\n",
       "      <td>FI</td>\n",
       "      <td>Finland</td>\n",
       "      <td>2022</td>\n",
       "      <td>0</td>\n",
       "      <td>AND</td>\n",
       "    </tr>\n",
       "    <tr>\n",
       "      <th>...</th>\n",
       "      <td>...</td>\n",
       "      <td>...</td>\n",
       "      <td>...</td>\n",
       "      <td>...</td>\n",
       "      <td>...</td>\n",
       "      <td>...</td>\n",
       "      <td>...</td>\n",
       "      <td>...</td>\n",
       "      <td>...</td>\n",
       "    </tr>\n",
       "    <tr>\n",
       "      <th>78574</th>\n",
       "      <td>ZW</td>\n",
       "      <td>Zimbabwe</td>\n",
       "      <td>Y_LT15</td>\n",
       "      <td>T</td>\n",
       "      <td>LU</td>\n",
       "      <td>Luxembourg</td>\n",
       "      <td>2022</td>\n",
       "      <td>4</td>\n",
       "      <td>ZWE</td>\n",
       "    </tr>\n",
       "    <tr>\n",
       "      <th>78575</th>\n",
       "      <td>ZW</td>\n",
       "      <td>Zimbabwe</td>\n",
       "      <td>Y_LT15</td>\n",
       "      <td>T</td>\n",
       "      <td>LV</td>\n",
       "      <td>Latvia</td>\n",
       "      <td>2022</td>\n",
       "      <td>0</td>\n",
       "      <td>ZWE</td>\n",
       "    </tr>\n",
       "    <tr>\n",
       "      <th>78576</th>\n",
       "      <td>ZW</td>\n",
       "      <td>Zimbabwe</td>\n",
       "      <td>Y_LT15</td>\n",
       "      <td>T</td>\n",
       "      <td>NL</td>\n",
       "      <td>Netherlands</td>\n",
       "      <td>2022</td>\n",
       "      <td>45</td>\n",
       "      <td>ZWE</td>\n",
       "    </tr>\n",
       "    <tr>\n",
       "      <th>78577</th>\n",
       "      <td>ZW</td>\n",
       "      <td>Zimbabwe</td>\n",
       "      <td>Y_LT15</td>\n",
       "      <td>T</td>\n",
       "      <td>SE</td>\n",
       "      <td>Sweden</td>\n",
       "      <td>2022</td>\n",
       "      <td>3</td>\n",
       "      <td>ZWE</td>\n",
       "    </tr>\n",
       "    <tr>\n",
       "      <th>78578</th>\n",
       "      <td>ZW</td>\n",
       "      <td>Zimbabwe</td>\n",
       "      <td>Y_LT15</td>\n",
       "      <td>T</td>\n",
       "      <td>SK</td>\n",
       "      <td>Slovakia</td>\n",
       "      <td>2022</td>\n",
       "      <td>0</td>\n",
       "      <td>ZWE</td>\n",
       "    </tr>\n",
       "  </tbody>\n",
       "</table>\n",
       "<p>78579 rows × 9 columns</p>\n",
       "</div>"
      ],
      "text/plain": [
       "      Migrant_Citizenship Sending_Country     Age Gender Receiving_CCode  \\\n",
       "0                      AD         Andorra       T      F              AT   \n",
       "1                      AD         Andorra       T      F              BG   \n",
       "2                      AD         Andorra       T      F              CZ   \n",
       "3                      AD         Andorra       T      F              EE   \n",
       "4                      AD         Andorra       T      F              FI   \n",
       "...                   ...             ...     ...    ...             ...   \n",
       "78574                  ZW        Zimbabwe  Y_LT15      T              LU   \n",
       "78575                  ZW        Zimbabwe  Y_LT15      T              LV   \n",
       "78576                  ZW        Zimbabwe  Y_LT15      T              NL   \n",
       "78577                  ZW        Zimbabwe  Y_LT15      T              SE   \n",
       "78578                  ZW        Zimbabwe  Y_LT15      T              SK   \n",
       "\n",
       "      Receiving_Country  Year  Flow iso3  \n",
       "0               Austria  2022     0  AND  \n",
       "1              Bulgaria  2022     0  AND  \n",
       "2        Czech Republic  2022     0  AND  \n",
       "3               Estonia  2022     0  AND  \n",
       "4               Finland  2022     0  AND  \n",
       "...                 ...   ...   ...  ...  \n",
       "78574        Luxembourg  2022     4  ZWE  \n",
       "78575            Latvia  2022     0  ZWE  \n",
       "78576       Netherlands  2022    45  ZWE  \n",
       "78577            Sweden  2022     3  ZWE  \n",
       "78578          Slovakia  2022     0  ZWE  \n",
       "\n",
       "[78579 rows x 9 columns]"
      ]
     },
     "metadata": {},
     "output_type": "display_data"
    }
   ],
   "source": [
    "# Merge immig_noneu27 with UN country_codes3\n",
    "immig_noneu27 = pd.merge(immig_noneu27, country_codes3[['name', 'iso3']], left_on='Sending_Country', right_on='name', how='left')\n",
    "immig_noneu27.drop(columns=['name'], inplace=True)\n",
    "display(immig_noneu27)"
   ]
  },
  {
   "cell_type": "code",
   "execution_count": 33,
   "metadata": {
    "colab": {
     "base_uri": "https://localhost:8080/",
     "height": 221
    },
    "executionInfo": {
     "elapsed": 319,
     "status": "ok",
     "timestamp": 1712951757403,
     "user": {
      "displayName": "Barış ALAN",
      "userId": "17887961324607480771"
     },
     "user_tz": 300
    },
    "id": "AGTxjjUg1s9W",
    "outputId": "5fb5fd15-afed-450a-919f-d7d15db9b7b4"
   },
   "outputs": [
    {
     "data": {
      "text/plain": [
       "9621"
      ]
     },
     "metadata": {},
     "output_type": "display_data"
    },
    {
     "data": {
      "text/plain": [
       "array(['Bolivia, Plurinational State of',\n",
       "       'Congo, the Democratic Republic of the', 'Cape Verde',\n",
       "       'Micronesia, Federated States of', 'Iran, Islamic Republic of',\n",
       "       \"Korea, Democratic People's Republic of\", 'Korea, Republic of',\n",
       "       'Moldova, Republic of',\n",
       "       'Macedonia, the Former Yugoslav Republic of',\n",
       "       'Palestine, State of', 'Recognized Non-Citizens', 'Stateless',\n",
       "       'Swaziland', 'Turkey', 'Taiwan, Province of China',\n",
       "       'Tanzania, United Republic of', 'Unkown', 'United States',\n",
       "       'Holy See (Vatican City State)',\n",
       "       'Venezuela, Bolivarian Republic of'], dtype=object)"
      ]
     },
     "execution_count": 33,
     "metadata": {},
     "output_type": "execute_result"
    }
   ],
   "source": [
    "# Check for missing ISO3 codes: 9621 missing values\n",
    "display(immig_noneu27['iso3'].isna().sum())\n",
    "\n",
    "# These countries have longer and shorter version of their names.\n",
    "immig_noneu27[immig_noneu27['iso3'].isna()]['Sending_Country'].unique()"
   ]
  },
  {
   "cell_type": "code",
   "execution_count": 34,
   "metadata": {
    "colab": {
     "base_uri": "https://localhost:8080/",
     "height": 34
    },
    "executionInfo": {
     "elapsed": 251,
     "status": "ok",
     "timestamp": 1712951764340,
     "user": {
      "displayName": "Barış ALAN",
      "userId": "17887961324607480771"
     },
     "user_tz": 300
    },
    "id": "b7Z1HteM4ZQu",
    "outputId": "3f1c38b2-8a85-4016-a325-b9fd5e86ccf8"
   },
   "outputs": [
    {
     "data": {
      "text/plain": [
       "0"
      ]
     },
     "metadata": {},
     "output_type": "display_data"
    }
   ],
   "source": [
    "# Manually bring the 3 digit country codes for the missing countries\n",
    "missing_iso3 = {\n",
    "    'Bolivia, Plurinational State of': 'BOL',\n",
    "    'Congo, the Democratic Republic of the': 'COD',\n",
    "    'Cape Verde': 'CPV',\n",
    "    'Micronesia, Federated States of': 'FSM',\n",
    "    'Iran, Islamic Republic of': 'IRN',\n",
    "    \"Korea, Democratic People's Republic of\": 'PRK',\n",
    "    'Korea, Republic of': 'KOR',\n",
    "    'Moldova, Republic of': 'MDA',\n",
    "    'Macedonia, the Former Yugoslav Republic of': 'MKD',\n",
    "    'Palestine, State of': 'PSE',\n",
    "    'Recognized Non-Citizens': 'XXX',\n",
    "    'Stateless': 'XXX',\n",
    "    'Swaziland': 'SWZ',\n",
    "    'Turkey': 'TUR',\n",
    "    'Taiwan, Province of China': 'TWN',\n",
    "    'Tanzania, United Republic of': 'TZA',\n",
    "    'Unkown': 'XXX',\n",
    "    'United States': 'USA',\n",
    "    'Holy See (Vatican City State)': 'VAT',\n",
    "    'Venezuela, Bolivarian Republic of': 'VEN'\n",
    "}\n",
    "\n",
    "# Update ISO3 column in immig_noneu27 dataset using the dictionary\n",
    "immig_noneu27['iso3'].fillna(immig_noneu27['Sending_Country'].map(missing_iso3), inplace=True)\n",
    "display(immig_noneu27['iso3'].isna().sum())"
   ]
  },
  {
   "cell_type": "code",
   "execution_count": 35,
   "metadata": {
    "colab": {
     "base_uri": "https://localhost:8080/",
     "height": 111
    },
    "executionInfo": {
     "elapsed": 451,
     "status": "ok",
     "timestamp": 1712952061042,
     "user": {
      "displayName": "Barış ALAN",
      "userId": "17887961324607480771"
     },
     "user_tz": 300
    },
    "id": "BDys3OBK5L4z",
    "outputId": "8fdbd815-785d-417d-a18c-bc5dca344536"
   },
   "outputs": [
    {
     "data": {
      "text/html": [
       "<div>\n",
       "<style scoped>\n",
       "    .dataframe tbody tr th:only-of-type {\n",
       "        vertical-align: middle;\n",
       "    }\n",
       "\n",
       "    .dataframe tbody tr th {\n",
       "        vertical-align: top;\n",
       "    }\n",
       "\n",
       "    .dataframe thead th {\n",
       "        text-align: right;\n",
       "    }\n",
       "</style>\n",
       "<table border=\"1\" class=\"dataframe\">\n",
       "  <thead>\n",
       "    <tr style=\"text-align: right;\">\n",
       "      <th></th>\n",
       "      <th>Migrant_Citizenship</th>\n",
       "      <th>Sending_Country</th>\n",
       "      <th>Age</th>\n",
       "      <th>Gender</th>\n",
       "      <th>Receiving_CCode</th>\n",
       "      <th>Receiving_Country</th>\n",
       "      <th>Year</th>\n",
       "      <th>Flow</th>\n",
       "      <th>Sending_iso3</th>\n",
       "    </tr>\n",
       "  </thead>\n",
       "  <tbody>\n",
       "    <tr>\n",
       "      <th>0</th>\n",
       "      <td>AD</td>\n",
       "      <td>Andorra</td>\n",
       "      <td>T</td>\n",
       "      <td>F</td>\n",
       "      <td>AT</td>\n",
       "      <td>Austria</td>\n",
       "      <td>2022</td>\n",
       "      <td>0</td>\n",
       "      <td>AND</td>\n",
       "    </tr>\n",
       "    <tr>\n",
       "      <th>1</th>\n",
       "      <td>AD</td>\n",
       "      <td>Andorra</td>\n",
       "      <td>T</td>\n",
       "      <td>F</td>\n",
       "      <td>BG</td>\n",
       "      <td>Bulgaria</td>\n",
       "      <td>2022</td>\n",
       "      <td>0</td>\n",
       "      <td>AND</td>\n",
       "    </tr>\n",
       "  </tbody>\n",
       "</table>\n",
       "</div>"
      ],
      "text/plain": [
       "  Migrant_Citizenship Sending_Country Age Gender Receiving_CCode  \\\n",
       "0                  AD         Andorra   T      F              AT   \n",
       "1                  AD         Andorra   T      F              BG   \n",
       "\n",
       "  Receiving_Country  Year  Flow Sending_iso3  \n",
       "0           Austria  2022     0          AND  \n",
       "1          Bulgaria  2022     0          AND  "
      ]
     },
     "execution_count": 35,
     "metadata": {},
     "output_type": "execute_result"
    }
   ],
   "source": [
    "# Rename iso3 as Sending_iso3\n",
    "immig_noneu27.rename(columns={'iso3': 'Sending_iso3'}, inplace=True)\n",
    "immig_noneu27.head(2)"
   ]
  },
  {
   "cell_type": "code",
   "execution_count": 36,
   "metadata": {
    "colab": {
     "base_uri": "https://localhost:8080/",
     "height": 204
    },
    "executionInfo": {
     "elapsed": 609,
     "status": "ok",
     "timestamp": 1712952162620,
     "user": {
      "displayName": "Barış ALAN",
      "userId": "17887961324607480771"
     },
     "user_tz": 300
    },
    "id": "KY1rD9JQrVsY",
    "outputId": "aca6006a-6caa-40d4-e23a-119bd9e45a5b"
   },
   "outputs": [
    {
     "data": {
      "text/html": [
       "<div>\n",
       "<style scoped>\n",
       "    .dataframe tbody tr th:only-of-type {\n",
       "        vertical-align: middle;\n",
       "    }\n",
       "\n",
       "    .dataframe tbody tr th {\n",
       "        vertical-align: top;\n",
       "    }\n",
       "\n",
       "    .dataframe thead th {\n",
       "        text-align: right;\n",
       "    }\n",
       "</style>\n",
       "<table border=\"1\" class=\"dataframe\">\n",
       "  <thead>\n",
       "    <tr style=\"text-align: right;\">\n",
       "      <th></th>\n",
       "      <th>Migrant_Citizenship</th>\n",
       "      <th>Sending_Country</th>\n",
       "      <th>Age</th>\n",
       "      <th>Gender</th>\n",
       "      <th>Receiving_CCode</th>\n",
       "      <th>Receiving_Country</th>\n",
       "      <th>Year</th>\n",
       "      <th>Flow</th>\n",
       "      <th>Sending_iso3</th>\n",
       "      <th>2022 [YR2022]</th>\n",
       "    </tr>\n",
       "  </thead>\n",
       "  <tbody>\n",
       "    <tr>\n",
       "      <th>0</th>\n",
       "      <td>AD</td>\n",
       "      <td>Andorra</td>\n",
       "      <td>T</td>\n",
       "      <td>F</td>\n",
       "      <td>AT</td>\n",
       "      <td>Austria</td>\n",
       "      <td>2022</td>\n",
       "      <td>0</td>\n",
       "      <td>AND</td>\n",
       "      <td>..</td>\n",
       "    </tr>\n",
       "    <tr>\n",
       "      <th>1</th>\n",
       "      <td>AD</td>\n",
       "      <td>Andorra</td>\n",
       "      <td>T</td>\n",
       "      <td>F</td>\n",
       "      <td>BG</td>\n",
       "      <td>Bulgaria</td>\n",
       "      <td>2022</td>\n",
       "      <td>0</td>\n",
       "      <td>AND</td>\n",
       "      <td>..</td>\n",
       "    </tr>\n",
       "    <tr>\n",
       "      <th>2</th>\n",
       "      <td>AD</td>\n",
       "      <td>Andorra</td>\n",
       "      <td>T</td>\n",
       "      <td>F</td>\n",
       "      <td>CZ</td>\n",
       "      <td>Czech Republic</td>\n",
       "      <td>2022</td>\n",
       "      <td>0</td>\n",
       "      <td>AND</td>\n",
       "      <td>..</td>\n",
       "    </tr>\n",
       "    <tr>\n",
       "      <th>3</th>\n",
       "      <td>AD</td>\n",
       "      <td>Andorra</td>\n",
       "      <td>T</td>\n",
       "      <td>F</td>\n",
       "      <td>EE</td>\n",
       "      <td>Estonia</td>\n",
       "      <td>2022</td>\n",
       "      <td>0</td>\n",
       "      <td>AND</td>\n",
       "      <td>..</td>\n",
       "    </tr>\n",
       "    <tr>\n",
       "      <th>4</th>\n",
       "      <td>AD</td>\n",
       "      <td>Andorra</td>\n",
       "      <td>T</td>\n",
       "      <td>F</td>\n",
       "      <td>FI</td>\n",
       "      <td>Finland</td>\n",
       "      <td>2022</td>\n",
       "      <td>0</td>\n",
       "      <td>AND</td>\n",
       "      <td>..</td>\n",
       "    </tr>\n",
       "  </tbody>\n",
       "</table>\n",
       "</div>"
      ],
      "text/plain": [
       "  Migrant_Citizenship Sending_Country Age Gender Receiving_CCode  \\\n",
       "0                  AD         Andorra   T      F              AT   \n",
       "1                  AD         Andorra   T      F              BG   \n",
       "2                  AD         Andorra   T      F              CZ   \n",
       "3                  AD         Andorra   T      F              EE   \n",
       "4                  AD         Andorra   T      F              FI   \n",
       "\n",
       "  Receiving_Country  Year  Flow Sending_iso3 2022 [YR2022]  \n",
       "0           Austria  2022     0          AND            ..  \n",
       "1          Bulgaria  2022     0          AND            ..  \n",
       "2    Czech Republic  2022     0          AND            ..  \n",
       "3           Estonia  2022     0          AND            ..  \n",
       "4           Finland  2022     0          AND            ..  "
      ]
     },
     "execution_count": 36,
     "metadata": {},
     "output_type": "execute_result"
    }
   ],
   "source": [
    "# Merge WB GDP/PC with Immigration Dataset and bring GDP/PC information\n",
    "immig_noneu27 = pd.merge(immig_noneu27, gdppc[['Country Code', '2022 [YR2022]']], left_on='Sending_iso3', right_on='Country Code', how='left')\n",
    "immig_noneu27.drop(columns=['Country Code'], inplace=True)\n",
    "\n",
    "\n",
    "immig_noneu27.head()"
   ]
  },
  {
   "cell_type": "code",
   "execution_count": 37,
   "metadata": {
    "colab": {
     "base_uri": "https://localhost:8080/",
     "height": 419
    },
    "executionInfo": {
     "elapsed": 761,
     "status": "ok",
     "timestamp": 1712952220193,
     "user": {
      "displayName": "Barış ALAN",
      "userId": "17887961324607480771"
     },
     "user_tz": 300
    },
    "id": "EjL17W2f59Nz",
    "outputId": "ff3592bc-8171-4bd2-97e2-997a48571c55"
   },
   "outputs": [
    {
     "data": {
      "text/html": [
       "<div>\n",
       "<style scoped>\n",
       "    .dataframe tbody tr th:only-of-type {\n",
       "        vertical-align: middle;\n",
       "    }\n",
       "\n",
       "    .dataframe tbody tr th {\n",
       "        vertical-align: top;\n",
       "    }\n",
       "\n",
       "    .dataframe thead th {\n",
       "        text-align: right;\n",
       "    }\n",
       "</style>\n",
       "<table border=\"1\" class=\"dataframe\">\n",
       "  <thead>\n",
       "    <tr style=\"text-align: right;\">\n",
       "      <th></th>\n",
       "      <th>Migrant_Citizenship</th>\n",
       "      <th>Sending_Country</th>\n",
       "      <th>Age</th>\n",
       "      <th>Gender</th>\n",
       "      <th>Receiving_CCode</th>\n",
       "      <th>Receiving_Country</th>\n",
       "      <th>Year</th>\n",
       "      <th>Flow</th>\n",
       "      <th>Sending_iso3</th>\n",
       "      <th>Sending_gdppc</th>\n",
       "    </tr>\n",
       "  </thead>\n",
       "  <tbody>\n",
       "    <tr>\n",
       "      <th>0</th>\n",
       "      <td>AD</td>\n",
       "      <td>Andorra</td>\n",
       "      <td>T</td>\n",
       "      <td>F</td>\n",
       "      <td>AT</td>\n",
       "      <td>Austria</td>\n",
       "      <td>2022</td>\n",
       "      <td>0</td>\n",
       "      <td>AND</td>\n",
       "      <td>..</td>\n",
       "    </tr>\n",
       "    <tr>\n",
       "      <th>1</th>\n",
       "      <td>AD</td>\n",
       "      <td>Andorra</td>\n",
       "      <td>T</td>\n",
       "      <td>F</td>\n",
       "      <td>BG</td>\n",
       "      <td>Bulgaria</td>\n",
       "      <td>2022</td>\n",
       "      <td>0</td>\n",
       "      <td>AND</td>\n",
       "      <td>..</td>\n",
       "    </tr>\n",
       "    <tr>\n",
       "      <th>2</th>\n",
       "      <td>AD</td>\n",
       "      <td>Andorra</td>\n",
       "      <td>T</td>\n",
       "      <td>F</td>\n",
       "      <td>CZ</td>\n",
       "      <td>Czech Republic</td>\n",
       "      <td>2022</td>\n",
       "      <td>0</td>\n",
       "      <td>AND</td>\n",
       "      <td>..</td>\n",
       "    </tr>\n",
       "    <tr>\n",
       "      <th>3</th>\n",
       "      <td>AD</td>\n",
       "      <td>Andorra</td>\n",
       "      <td>T</td>\n",
       "      <td>F</td>\n",
       "      <td>EE</td>\n",
       "      <td>Estonia</td>\n",
       "      <td>2022</td>\n",
       "      <td>0</td>\n",
       "      <td>AND</td>\n",
       "      <td>..</td>\n",
       "    </tr>\n",
       "    <tr>\n",
       "      <th>4</th>\n",
       "      <td>AD</td>\n",
       "      <td>Andorra</td>\n",
       "      <td>T</td>\n",
       "      <td>F</td>\n",
       "      <td>FI</td>\n",
       "      <td>Finland</td>\n",
       "      <td>2022</td>\n",
       "      <td>0</td>\n",
       "      <td>AND</td>\n",
       "      <td>..</td>\n",
       "    </tr>\n",
       "    <tr>\n",
       "      <th>...</th>\n",
       "      <td>...</td>\n",
       "      <td>...</td>\n",
       "      <td>...</td>\n",
       "      <td>...</td>\n",
       "      <td>...</td>\n",
       "      <td>...</td>\n",
       "      <td>...</td>\n",
       "      <td>...</td>\n",
       "      <td>...</td>\n",
       "      <td>...</td>\n",
       "    </tr>\n",
       "    <tr>\n",
       "      <th>78574</th>\n",
       "      <td>ZW</td>\n",
       "      <td>Zimbabwe</td>\n",
       "      <td>Y_LT15</td>\n",
       "      <td>T</td>\n",
       "      <td>LU</td>\n",
       "      <td>Luxembourg</td>\n",
       "      <td>2022</td>\n",
       "      <td>4</td>\n",
       "      <td>ZWE</td>\n",
       "      <td>2207.957033</td>\n",
       "    </tr>\n",
       "    <tr>\n",
       "      <th>78575</th>\n",
       "      <td>ZW</td>\n",
       "      <td>Zimbabwe</td>\n",
       "      <td>Y_LT15</td>\n",
       "      <td>T</td>\n",
       "      <td>LV</td>\n",
       "      <td>Latvia</td>\n",
       "      <td>2022</td>\n",
       "      <td>0</td>\n",
       "      <td>ZWE</td>\n",
       "      <td>2207.957033</td>\n",
       "    </tr>\n",
       "    <tr>\n",
       "      <th>78576</th>\n",
       "      <td>ZW</td>\n",
       "      <td>Zimbabwe</td>\n",
       "      <td>Y_LT15</td>\n",
       "      <td>T</td>\n",
       "      <td>NL</td>\n",
       "      <td>Netherlands</td>\n",
       "      <td>2022</td>\n",
       "      <td>45</td>\n",
       "      <td>ZWE</td>\n",
       "      <td>2207.957033</td>\n",
       "    </tr>\n",
       "    <tr>\n",
       "      <th>78577</th>\n",
       "      <td>ZW</td>\n",
       "      <td>Zimbabwe</td>\n",
       "      <td>Y_LT15</td>\n",
       "      <td>T</td>\n",
       "      <td>SE</td>\n",
       "      <td>Sweden</td>\n",
       "      <td>2022</td>\n",
       "      <td>3</td>\n",
       "      <td>ZWE</td>\n",
       "      <td>2207.957033</td>\n",
       "    </tr>\n",
       "    <tr>\n",
       "      <th>78578</th>\n",
       "      <td>ZW</td>\n",
       "      <td>Zimbabwe</td>\n",
       "      <td>Y_LT15</td>\n",
       "      <td>T</td>\n",
       "      <td>SK</td>\n",
       "      <td>Slovakia</td>\n",
       "      <td>2022</td>\n",
       "      <td>0</td>\n",
       "      <td>ZWE</td>\n",
       "      <td>2207.957033</td>\n",
       "    </tr>\n",
       "  </tbody>\n",
       "</table>\n",
       "<p>78579 rows × 10 columns</p>\n",
       "</div>"
      ],
      "text/plain": [
       "      Migrant_Citizenship Sending_Country     Age Gender Receiving_CCode  \\\n",
       "0                      AD         Andorra       T      F              AT   \n",
       "1                      AD         Andorra       T      F              BG   \n",
       "2                      AD         Andorra       T      F              CZ   \n",
       "3                      AD         Andorra       T      F              EE   \n",
       "4                      AD         Andorra       T      F              FI   \n",
       "...                   ...             ...     ...    ...             ...   \n",
       "78574                  ZW        Zimbabwe  Y_LT15      T              LU   \n",
       "78575                  ZW        Zimbabwe  Y_LT15      T              LV   \n",
       "78576                  ZW        Zimbabwe  Y_LT15      T              NL   \n",
       "78577                  ZW        Zimbabwe  Y_LT15      T              SE   \n",
       "78578                  ZW        Zimbabwe  Y_LT15      T              SK   \n",
       "\n",
       "      Receiving_Country  Year  Flow Sending_iso3 Sending_gdppc  \n",
       "0               Austria  2022     0          AND            ..  \n",
       "1              Bulgaria  2022     0          AND            ..  \n",
       "2        Czech Republic  2022     0          AND            ..  \n",
       "3               Estonia  2022     0          AND            ..  \n",
       "4               Finland  2022     0          AND            ..  \n",
       "...                 ...   ...   ...          ...           ...  \n",
       "78574        Luxembourg  2022     4          ZWE   2207.957033  \n",
       "78575            Latvia  2022     0          ZWE   2207.957033  \n",
       "78576       Netherlands  2022    45          ZWE   2207.957033  \n",
       "78577            Sweden  2022     3          ZWE   2207.957033  \n",
       "78578          Slovakia  2022     0          ZWE   2207.957033  \n",
       "\n",
       "[78579 rows x 10 columns]"
      ]
     },
     "execution_count": 37,
     "metadata": {},
     "output_type": "execute_result"
    }
   ],
   "source": [
    "# Rename GDP/PC column\n",
    "immig_noneu27.rename(columns={'2022 [YR2022]': 'Sending_gdppc'}, inplace=True)\n",
    "immig_noneu27"
   ]
  },
  {
   "cell_type": "markdown",
   "metadata": {},
   "source": [
    "**Check the data type and unique values for `Sending_gdppc` column.**\n",
    "\n",
    "In the dataframe above, Andorra has a value of \"..\", yet it is not included in missing values. It is better to check the data type of this GDP/PC column, and the unique values."
   ]
  },
  {
   "cell_type": "code",
   "execution_count": 38,
   "metadata": {},
   "outputs": [
    {
     "name": "stdout",
     "output_type": "stream",
     "text": [
      "object\n"
     ]
    },
    {
     "data": {
      "text/plain": [
       "array(['..', '74917.67411', '22321.87002', '15491.961', '16057.00646',\n",
       "       '5906.115677', '22461.44094', '51090.26333', '15094.2841',\n",
       "       '16737.11106', '15417.29644', '6263.004635', '2158.858516',\n",
       "       '51854.71637', '708.1783134', '3435.171617', '58669.90069',\n",
       "       '8244.235658', '15093.46512', '34663.49645', '15518.65105',\n",
       "       '19092.11117', '9473.705619', '49296.37921', '1132.65423',\n",
       "       '823.9821853', '3670.199622', '72278.20726', '5537.369758',\n",
       "       '25886.12142', '3723.532337', '18187.84112', '15616.74783',\n",
       "       '22070.91981', '7379.247565', '4989.408723', '11463.59787',\n",
       "       '19338.01511', '11198.23348', '10859.21783', '12780.75987', nan,\n",
       "       '2381.165784', '12388.10853', '3263.665192', '13939.78681',\n",
       "       '14462.93673', '17078.34096', '5480.329983', '2113.614844',\n",
       "       '2699.128855', '14918.29673', '9162.052788', '1855.111973',\n",
       "       '35634.68891', '5709.124208', '2799.112561', '12409.75885',\n",
       "       '44393.3003', '7112.039396', '9199.020694', '15461.07934',\n",
       "       '55567.42621', '10107.86479', '9490.666716', '41837.9104',\n",
       "       '4881.531729', '5070.150236', '4533.864023', '2002.718218',\n",
       "       '3245.768697', '28770.13897', '45560.12352', '49400.35446',\n",
       "       '26093.29458', '7947.658797', '15100.28601', '12200.13739',\n",
       "       '1460.92339', '2240.339251', '19796.5875', '8083.365234',\n",
       "       '13308.41733', '22108.57895', '1502.482182', '6004.342769',\n",
       "       '17128.64286', '2132.623315', '4249.876151', '12073.24546',\n",
       "       '5330.214503', '22841.35055', '21271.31768', '1466.879417',\n",
       "       '20254.78114', '28383.61865', '1250.772414', '9762.776892',\n",
       "       '1274.641741', '4963.160313', '5822.353525', '67296.15924',\n",
       "       '4001.699955', '11024.34299', '45185.31253', '35336.89465',\n",
       "       '33266.47684', '12743.94239', '3752.944951', '8581.937693',\n",
       "       '5376.966856', '5722.409175', '13531.39666', '96557.81376',\n",
       "       '20885.74516', '27450.44922', '2364.80197', '50188.29749',\n",
       "       '2247.784882', '25205.73629', '3570.607422', '108036.111',\n",
       "       '1634.76383', '3564.628137', '1448.556735', '15047.61395',\n",
       "       '3438.859825', '9396.01378', '9058.583177', '1412.670718',\n",
       "       '2202.726816', '17507.62019', '4137.2776', '3943.092434',\n",
       "       '14740.00958', '10569.05083', '33149.49822', '23295.54634',\n",
       "       '4591.330713', '2623.861572', '10731.44043', '2280.073743',\n",
       "       '64623.12563', '24426.65935', '8073.210439', '14572.60703',\n",
       "       '11396.5313', '2785.90386', '5155.620076', '13478.75386',\n",
       "       '3365.87378', '2207.957033'], dtype=object)"
      ]
     },
     "execution_count": 38,
     "metadata": {},
     "output_type": "execute_result"
    }
   ],
   "source": [
    "# Data type of Sending_gdppc = object\n",
    "print(immig_noneu27['Sending_gdppc'].dtype)\n",
    "\n",
    "# Unique values under Sending_gdppc columnn. A quick visual analysis shows observations with \"..\" values\n",
    "immig_noneu27['Sending_gdppc'].unique()"
   ]
  },
  {
   "cell_type": "code",
   "execution_count": 39,
   "metadata": {},
   "outputs": [
    {
     "data": {
      "text/plain": [
       "Migrant_Citizenship     object\n",
       "Sending_Country         object\n",
       "Age                     object\n",
       "Gender                  object\n",
       "Receiving_CCode         object\n",
       "Receiving_Country       object\n",
       "Year                     int64\n",
       "Flow                     int64\n",
       "Sending_iso3            object\n",
       "Sending_gdppc          float64\n",
       "dtype: object"
      ]
     },
     "execution_count": 39,
     "metadata": {},
     "output_type": "execute_result"
    }
   ],
   "source": [
    "# Turn datatype of GDP/PC column into numeric\n",
    "immig_noneu27['Sending_gdppc'] = pd.to_numeric(immig_noneu27['Sending_gdppc'], errors='coerce')\n",
    "immig_noneu27.dtypes"
   ]
  },
  {
   "cell_type": "code",
   "execution_count": 41,
   "metadata": {},
   "outputs": [
    {
     "name": "stdout",
     "output_type": "stream",
     "text": [
      "11256\n"
     ]
    },
    {
     "data": {
      "text/plain": [
       "array(['Andorra', 'Afghanistan', 'Bhutan', 'Cuba', 'Western Sahara',\n",
       "       'Eritrea', 'Isle of Man', 'Jersey',\n",
       "       \"Korea, Democratic People's Republic of\", 'Lebanon',\n",
       "       'Liechtenstein', 'Monaco', 'Palau', 'Recognized Non-Citizens',\n",
       "       'San Marino', 'South Sudan', 'Stateless', 'Syrian Arab Republic',\n",
       "       'Tonga', 'Taiwan, Province of China', 'Unkown',\n",
       "       'Holy See (Vatican City State)',\n",
       "       'Venezuela, Bolivarian Republic of', 'Yemen'], dtype=object)"
      ]
     },
     "metadata": {},
     "output_type": "display_data"
    }
   ],
   "source": [
    "# How many missing values under GDP/PC column\n",
    "print(immig_noneu27['Sending_gdppc'].isna().sum())\n",
    "\n",
    "# Which countries are missing?\n",
    "display(immig_noneu27[immig_noneu27['Sending_gdppc'].isna()]['Sending_Country'].unique())\n"
   ]
  },
  {
   "cell_type": "code",
   "execution_count": 42,
   "metadata": {},
   "outputs": [
    {
     "data": {
      "text/plain": [
       "Sending_Country\n",
       "Venezuela, Bolivarian Republic of         85238\n",
       "Syrian Arab Republic                      42466\n",
       "Cuba                                      20720\n",
       "Afghanistan                               14713\n",
       "Unkown                                     9356\n",
       "Eritrea                                    3603\n",
       "Stateless                                  2915\n",
       "Lebanon                                    2577\n",
       "Yemen                                      2423\n",
       "Recognized Non-Citizens                    1153\n",
       "Taiwan, Province of China                   947\n",
       "South Sudan                                 197\n",
       "Liechtenstein                                34\n",
       "San Marino                                   30\n",
       "Bhutan                                       29\n",
       "Korea, Democratic People's Republic of       28\n",
       "Andorra                                       8\n",
       "Monaco                                        2\n",
       "Holy See (Vatican City State)                 1\n",
       "Palau                                         1\n",
       "Jersey                                        0\n",
       "Isle of Man                                   0\n",
       "Tonga                                         0\n",
       "Western Sahara                                0\n",
       "Name: Flow, dtype: int64"
      ]
     },
     "execution_count": 42,
     "metadata": {},
     "output_type": "execute_result"
    }
   ],
   "source": [
    "# How many migrants arrived from these countries with missing GDP/PC column?\n",
    "missing_gdppc = immig_noneu27[immig_noneu27['Sending_gdppc'].isna()]['Sending_Country'].unique()\n",
    "\n",
    "# Number of migrants arrived\n",
    "immig_noneu27[\n",
    "    (immig_noneu27['Age'] == 'T') &\n",
    "    (immig_noneu27['Gender'] == 'T') &\n",
    "    (immig_noneu27['Sending_Country'].isin(missing_gdppc))\n",
    "].groupby('Sending_Country')['Flow'].sum().sort_values(ascending=False)"
   ]
  },
  {
   "cell_type": "markdown",
   "metadata": {},
   "source": [
    "**Important Note on Imputation:**\n",
    "As it can be seen above, some of these countries with missing GDP/PC information didnot send any migrants to the EU, or only send a handful. \n",
    "\n",
    "For the purpose of this project, the GDP/PC information of the sending countries above Liechtenstein will be brought from other reliable resources (such as IMF, and individual researches) and be kept in the dataset and whereas those below Liechtenstein will be dropped.\n",
    "\n"
   ]
  },
  {
   "cell_type": "code",
   "execution_count": 43,
   "metadata": {},
   "outputs": [
    {
     "data": {
      "text/plain": [
       "array(['Andorra', 'Bhutan', 'Western Sahara', 'Isle of Man', 'Jersey',\n",
       "       \"Korea, Democratic People's Republic of\", 'Liechtenstein',\n",
       "       'Monaco', 'Palau', 'Recognized Non-Citizens', 'San Marino',\n",
       "       'Stateless', 'Syrian Arab Republic', 'Tonga', 'Unkown',\n",
       "       'Holy See (Vatican City State)',\n",
       "       'Venezuela, Bolivarian Republic of'], dtype=object)"
      ]
     },
     "metadata": {},
     "output_type": "display_data"
    }
   ],
   "source": [
    "# Define GDP per capita values for missing countries\n",
    "missing_gdp = {\n",
    "    'Venezuela': 3420,\n",
    "    'Syria': 752,\n",
    "    'Cuba': 7449,\n",
    "    'Afghanistan': 372,\n",
    "    'Eritrea': 1921,\n",
    "    'Lebanon': 4467,\n",
    "    'Yemen': 1017,\n",
    "    'Taiwan, Province of China': 32716,\n",
    "    'South Sudan': 340\n",
    "}\n",
    "\n",
    "# Fill missing GDP per capita values based on Sending_Country\n",
    "immig_noneu27['Sending_gdppc'] = immig_noneu27.apply(\n",
    "    lambda row: missing_gdp[row['Sending_Country']] if pd.isna(row['Sending_gdppc']) and row['Sending_Country'] in missing_gdp else row['Sending_gdppc'],\n",
    "    axis=1\n",
    ")\n",
    "\n",
    "# Check the remaining missing countries\n",
    "display(immig_noneu27[immig_noneu27['Sending_gdppc'].isna()]['Sending_Country'].unique())\n"
   ]
  },
  {
   "cell_type": "code",
   "execution_count": 44,
   "metadata": {},
   "outputs": [
    {
     "data": {
      "text/plain": [
       "array(['Andorra', 'Bhutan', 'Western Sahara', 'Isle of Man', 'Jersey',\n",
       "       \"Korea, Democratic People's Republic of\", 'Liechtenstein',\n",
       "       'Monaco', 'Palau', 'San Marino', 'Syrian Arab Republic', 'Tonga',\n",
       "       'Unkown', 'Holy See (Vatican City State)',\n",
       "       'Venezuela, Bolivarian Republic of'], dtype=object)"
      ]
     },
     "metadata": {},
     "output_type": "display_data"
    }
   ],
   "source": [
    "# For the Unkown, Stateless, Recognized Non-Citizens observations, fill the GDP/PC with the average of dataset\n",
    "average_gdppc = immig_noneu27['Sending_gdppc'].mean()\n",
    "\n",
    "# 3 observations\n",
    "countries_to_fill = ['Unknown', 'Stateless', 'Recognized Non-Citizens']\n",
    "\n",
    "# Fill missing GDP per capita for specified countries with the dataset's average GDP per capita\n",
    "immig_noneu27['Sending_gdppc'] = immig_noneu27.apply(\n",
    "    lambda row: average_gdppc if pd.isna(row['Sending_gdppc']) and row['Sending_Country'] in countries_to_fill else row['Sending_gdppc'],\n",
    "    axis=1\n",
    ")\n",
    "\n",
    "# Check the remaining missing countries\n",
    "display(immig_noneu27[immig_noneu27['Sending_gdppc'].isna()]['Sending_Country'].unique())"
   ]
  },
  {
   "cell_type": "code",
   "execution_count": 45,
   "metadata": {},
   "outputs": [
    {
     "data": {
      "text/plain": [
       "0"
      ]
     },
     "execution_count": 45,
     "metadata": {},
     "output_type": "execute_result"
    }
   ],
   "source": [
    "# Drop NA values\n",
    "immig_noneu27 = immig_noneu27.dropna(subset=['Sending_gdppc'])\n",
    "\n",
    "# Verify that no missing GDP per capita values remain\n",
    "immig_noneu27['Sending_gdppc'].isna().sum()"
   ]
  },
  {
   "cell_type": "markdown",
   "metadata": {
    "id": "dESnc0Uc62Qb"
   },
   "source": [
    "**What is the average GDP/PC of countries that send immigrations to EU27?**\n",
    "\n",
    "We can straightly work on the total_by_sending dataset, which shows the total migrants by sending country. However, this dataset include very highly developed countries like Singapour, Qatar, or UAE which has relatively high GDP/PC (108K, 96K, 74K), yet they sent only a limited number of immigrants to the EU (476, 19, 29 respectively). Therefore they pull the average GDP per capita strikingly high value of $16,473.\n",
    "\n",
    "Therefore, this project will take the average of countries which send migrant more than the average migrant number, which is 12846.\n",
    "\n",
    "---\n",
    "\n"
   ]
  },
  {
   "cell_type": "code",
   "execution_count": 46,
   "metadata": {
    "colab": {
     "base_uri": "https://localhost:8080/",
     "height": 204
    },
    "executionInfo": {
     "elapsed": 353,
     "status": "ok",
     "timestamp": 1712953825199,
     "user": {
      "displayName": "Barış ALAN",
      "userId": "17887961324607480771"
     },
     "user_tz": 300
    },
    "id": "niHMQ4Hq68ow",
    "outputId": "79332395-89ea-45d9-ff04-e891f84a0e41"
   },
   "outputs": [
    {
     "data": {
      "text/html": [
       "<div>\n",
       "<style scoped>\n",
       "    .dataframe tbody tr th:only-of-type {\n",
       "        vertical-align: middle;\n",
       "    }\n",
       "\n",
       "    .dataframe tbody tr th {\n",
       "        vertical-align: top;\n",
       "    }\n",
       "\n",
       "    .dataframe thead th {\n",
       "        text-align: right;\n",
       "    }\n",
       "</style>\n",
       "<table border=\"1\" class=\"dataframe\">\n",
       "  <thead>\n",
       "    <tr style=\"text-align: right;\">\n",
       "      <th></th>\n",
       "      <th>Sending_Country</th>\n",
       "      <th>Flow</th>\n",
       "    </tr>\n",
       "  </thead>\n",
       "  <tbody>\n",
       "    <tr>\n",
       "      <th>0</th>\n",
       "      <td>Ukraine</td>\n",
       "      <td>764356</td>\n",
       "    </tr>\n",
       "    <tr>\n",
       "      <th>1</th>\n",
       "      <td>Colombia</td>\n",
       "      <td>176955</td>\n",
       "    </tr>\n",
       "    <tr>\n",
       "      <th>2</th>\n",
       "      <td>Morocco</td>\n",
       "      <td>138886</td>\n",
       "    </tr>\n",
       "    <tr>\n",
       "      <th>3</th>\n",
       "      <td>Venezuela, Bolivarian Republic of</td>\n",
       "      <td>85238</td>\n",
       "    </tr>\n",
       "    <tr>\n",
       "      <th>4</th>\n",
       "      <td>Peru</td>\n",
       "      <td>74722</td>\n",
       "    </tr>\n",
       "  </tbody>\n",
       "</table>\n",
       "</div>"
      ],
      "text/plain": [
       "                     Sending_Country    Flow\n",
       "0                            Ukraine  764356\n",
       "1                           Colombia  176955\n",
       "2                            Morocco  138886\n",
       "3  Venezuela, Bolivarian Republic of   85238\n",
       "4                               Peru   74722"
      ]
     },
     "execution_count": 46,
     "metadata": {},
     "output_type": "execute_result"
    }
   ],
   "source": [
    "# Create a new dataframe for migrations flows by sending country. Reset index to rank counries by flows.\n",
    "total_by_sending = total_by_sending.reset_index()\n",
    "total_by_sending.head(5)"
   ]
  },
  {
   "cell_type": "code",
   "execution_count": 48,
   "metadata": {
    "executionInfo": {
     "elapsed": 173,
     "status": "ok",
     "timestamp": 1712953829436,
     "user": {
      "displayName": "Barış ALAN",
      "userId": "17887961324607480771"
     },
     "user_tz": 300
    },
    "id": "YLJXMaP9-sI-"
   },
   "outputs": [],
   "source": [
    "# Bring gdp/pc to total_by_sending\n",
    "total_by_sending = total_by_sending.merge(immig_noneu27[['Sending_Country', 'Sending_gdppc']].drop_duplicates(), on='Sending_Country', how='left')"
   ]
  },
  {
   "cell_type": "code",
   "execution_count": 50,
   "metadata": {
    "colab": {
     "base_uri": "https://localhost:8080/",
     "height": 51
    },
    "executionInfo": {
     "elapsed": 243,
     "status": "ok",
     "timestamp": 1712954609038,
     "user": {
      "displayName": "Barış ALAN",
      "userId": "17887961324607480771"
     },
     "user_tz": 300
    },
    "id": "_mC3cJolAlFb",
    "outputId": "d213fd9e-8f3b-4482-a97a-03a5e2a5fc9f"
   },
   "outputs": [
    {
     "data": {
      "text/plain": [
       "16046.630790093908"
      ]
     },
     "metadata": {},
     "output_type": "display_data"
    },
    {
     "data": {
      "text/plain": [
       "12846.011494252874"
      ]
     },
     "metadata": {},
     "output_type": "display_data"
    }
   ],
   "source": [
    "# Average GDP\n",
    "total_by_sending['Sending_gdppc'] = pd.to_numeric(total_by_sending['Sending_gdppc'], errors='coerce')\n",
    "\n",
    "# Calculate the average of sending_gdppc column\n",
    "display(total_by_sending['Sending_gdppc'].mean())\n",
    "display(total_by_sending['Flow'].mean())"
   ]
  },
  {
   "cell_type": "code",
   "execution_count": 52,
   "metadata": {
    "colab": {
     "base_uri": "https://localhost:8080/",
     "height": 624
    },
    "executionInfo": {
     "elapsed": 2052,
     "status": "ok",
     "timestamp": 1712955809678,
     "user": {
      "displayName": "Barış ALAN",
      "userId": "17887961324607480771"
     },
     "user_tz": 300
    },
    "id": "2XZrR1iwAyzk",
    "outputId": "af9eb497-683d-4dfc-b220-31c417178489"
   },
   "outputs": [
    {
     "data": {
      "text/plain": [
       "14066.681623517245"
      ]
     },
     "metadata": {},
     "output_type": "display_data"
    },
    {
     "data": {
      "image/png": "[encoded data removed]",
      "text/plain": [
       "<Figure size 1000x600 with 1 Axes>"
      ]
     },
     "metadata": {},
     "output_type": "display_data"
    }
   ],
   "source": [
    "# Average GDP/PC of countries which send more than the average\n",
    "top_sending = total_by_sending[total_by_sending['Flow'] > (total_by_sending['Flow'].mean())].sort_values(by='Sending_gdppc', ascending=False)\n",
    "\n",
    "average_gdppc= top_sending['Sending_gdppc'].mean()\n",
    "display(average_gdppc)\n",
    "\n",
    "#Plot\n",
    "plt.figure(figsize=(10, 6))\n",
    "plt.bar(top_sending['Sending_Country'], top_sending['Sending_gdppc'])\n",
    "plt.xlabel('Country')\n",
    "plt.ylabel('GDP per capita')\n",
    "plt.title('GDP per capita of top 30 countries sending more than average immigrants')\n",
    "plt.xticks(rotation=90)  # Rotate x-axis labels for better visibility\n",
    "plt.tight_layout()\n",
    "plt.show()\n"
   ]
  },
  {
   "cell_type": "markdown",
   "metadata": {
    "id": "-d9pGc_BYIAi"
   },
   "source": [
    "## Further Analysis\n",
    "\n",
    "Following this objective, the project aims to incorporate other indicators, which are imported above, into the migration dataset (immig_noneu27). These indicators include socio-economic and political variables such as Multidimensional Poverty Measure, Political Stability Indicators, Gender Inequality Index, Conflict Indicators (Battles, Riots, and Violence against Civilians), Climate Risk Index, and Gender Inequality Index.\n",
    "\n",
    "After this stage, the project's objective shifts to constructing a statistical model to forecast migration flows to EU27 countries using these indicators.\n",
    "\n",
    "The initial comprehensive model will treat migration flows as the continuous dependent variable, while considering socio-economic and environmental factors as independent variables. Through this analysis, the project aims to illuminate the intricate relationship between migration patterns and socio-economic and environmental conditions, and reveal which of the variables have a statisticaly significant effect on the migration flows to the EU countries.\n",
    "\n",
    "The subsequent model will replicate the initial model, but will restrict the analysis to sending countries from the Middle East, Africa, and West Asia. This limitation will allow for an examination of whether similar dynamics persist within a narrower scope.\n",
    "\n",
    "Overall, your text is well-structured and effectively conveys the objectives and methodology of your project.\n"
   ]
  }
 ],
 "metadata": {
  "colab": {
   "authorship_tag": "ABX9TyMY0DuYjGSJBeFhwiq7uQ1l",
   "mount_file_id": "1bOo9-CrePJy2Ej0mRww-FqnqbuXFnZgP",
   "provenance": []
  },
  "kernelspec": {
   "display_name": "Python 3 (ipykernel)",
   "language": "python",
   "name": "python3"
  },
  "language_info": {
   "codemirror_mode": {
    "name": "ipython",
    "version": 3
   },
   "file_extension": ".py",
   "mimetype": "text/x-python",
   "name": "python",
   "nbconvert_exporter": "python",
   "pygments_lexer": "ipython3",
   "version": "3.11.6"
  }
 },
 "nbformat": 4,
 "nbformat_minor": 4
}
